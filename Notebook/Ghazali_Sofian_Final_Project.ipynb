{
  "cells": [
    {
      "cell_type": "markdown",
      "metadata": {},
      "source": [
        "# Final Project \n",
        "\n",
        "- GitHub Username: sghazali272\n",
        "- USC ID: 1482-3092-72\n",
        "- Name: Sofian Ghazali"
      ]
    },
    {
      "cell_type": "markdown",
      "metadata": {
        "id": "Fi1Aw7zjHV7J"
      },
      "source": [
        "# Importing Libraries"
      ]
    },
    {
      "cell_type": "code",
      "execution_count": null,
      "metadata": {
        "colab": {
          "base_uri": "https://localhost:8080/"
        },
        "id": "TR9MStm7Tpfy",
        "outputId": "914fde73-f462-4421-db65-369fc2c720b9"
      },
      "outputs": [
        {
          "name": "stdout",
          "output_type": "stream",
          "text": [
            "[nltk_data] Downloading package punkt to /root/nltk_data...\n",
            "[nltk_data]   Package punkt is already up-to-date!\n"
          ]
        }
      ],
      "source": [
        "import pandas as pd\n",
        "import numpy as np\n",
        "import os\n",
        "from os import listdir\n",
        "from os.path import isfile, join\n",
        "import string\n",
        "import re\n",
        "from collections import Counter\n",
        "import matplotlib.pyplot as plt\n",
        "import warnings\n",
        "\n",
        "import tensorflow as tf\n",
        "from tensorflow import keras\n",
        "from tensorflow.keras.preprocessing.text import Tokenizer\n",
        "from tensorflow.keras.preprocessing.sequence import pad_sequences\n",
        "from tensorflow.keras import Sequential\n",
        "from tensorflow.keras.layers import Dense, Embedding, Conv1D, MaxPooling1D, Flatten, Dropout\n",
        "from keras.layers import LSTM\n",
        "from tensorflow.keras.models import model_from_json\n",
        "from nltk.tokenize import word_tokenize\n",
        "import nltk\n",
        "nltk.download('punkt')\n",
        "\n",
        "warnings.filterwarnings('ignore')"
      ]
    },
    {
      "cell_type": "markdown",
      "metadata": {
        "id": "HvAjbfKsHaDO"
      },
      "source": [
        "# Extracting Data"
      ]
    },
    {
      "cell_type": "code",
      "execution_count": null,
      "metadata": {
        "colab": {
          "base_uri": "https://localhost:8080/"
        },
        "id": "mE11oSPETyw0",
        "outputId": "3437f775-d90f-4f8b-f0ac-883898057233"
      },
      "outputs": [
        {
          "name": "stdout",
          "output_type": "stream",
          "text": [
            "Extracted 50 elements\n",
            "Extracted 100 elements\n",
            "Extracted 150 elements\n",
            "Extracted 200 elements\n",
            "Extracted 250 elements\n",
            "Extracted 300 elements\n",
            "Extracted 350 elements\n",
            "Extracted 400 elements\n",
            "Extracted 450 elements\n",
            "Extracted 500 elements\n",
            "Extracted 550 elements\n",
            "Extracted 600 elements\n",
            "Extracted 650 elements\n",
            "Extracted 700 elements\n",
            "Extracted 750 elements\n",
            "Extracted 800 elements\n",
            "Extracted 850 elements\n",
            "Extracted 900 elements\n",
            "Extracted 950 elements\n",
            "Done extracting the positive text documents.\n",
            "Extracted 50 elements\n",
            "Extracted 100 elements\n",
            "Extracted 150 elements\n",
            "Extracted 200 elements\n",
            "Extracted 250 elements\n",
            "Extracted 300 elements\n",
            "Extracted 350 elements\n",
            "Extracted 400 elements\n",
            "Extracted 450 elements\n",
            "Extracted 500 elements\n",
            "Extracted 550 elements\n",
            "Extracted 600 elements\n",
            "Extracted 650 elements\n",
            "Extracted 700 elements\n",
            "Extracted 750 elements\n",
            "Extracted 800 elements\n",
            "Extracted 850 elements\n",
            "Extracted 900 elements\n",
            "Extracted 950 elements\n",
            "Done extracting the negative text documents\n"
          ]
        }
      ],
      "source": [
        "filepath_pos = r'../Data/pos'\n",
        "filepath_neg = r'../Data/neg'\n",
        "\n",
        "file_names_pos = [filepath_pos+'/'+file for file in listdir(filepath_pos) if isfile(join(filepath_pos, file))]\n",
        "file_names_neg = [filepath_neg+'/'+file for file in listdir(filepath_neg) if isfile(join(filepath_neg, file))]\n",
        "\n",
        "pos_text = []\n",
        "neg_text = []\n",
        "\n",
        "for idx, path in enumerate(file_names_pos):\n",
        "    with open(path, 'r') as f:\n",
        "        pos_text.append(f.read())\n",
        "    \n",
        "    if idx > 0 and idx % 50 == 0:\n",
        "        print(f'Extracted {idx} elements')\n",
        "\n",
        "print('Done extracting the positive text documents.')\n",
        "\n",
        "for idx, path in enumerate(file_names_neg):\n",
        "    with open(path, 'r') as f:\n",
        "        neg_text.append(f.read())\n",
        "    \n",
        "    if idx > 0 and idx % 50 == 0:\n",
        "        print(f'Extracted {idx} elements')\n",
        "\n",
        "print('Done extracting the negative text documents')"
      ]
    },
    {
      "cell_type": "code",
      "execution_count": null,
      "metadata": {
        "colab": {
          "base_uri": "https://localhost:8080/"
        },
        "id": "kL3It2P3Uyk-",
        "outputId": "b10b0570-9705-4829-a37e-7b64728fba6b"
      },
      "outputs": [
        {
          "name": "stdout",
          "output_type": "stream",
          "text": [
            "Total size of positive documents: 1000\n",
            "Total size of negative documents: 1000\n"
          ]
        }
      ],
      "source": [
        "print(f'Total size of positive documents: {len(pos_text)}')\n",
        "print(f'Total size of negative documents: {len(neg_text)}')"
      ]
    },
    {
      "cell_type": "markdown",
      "metadata": {
        "id": "hWUdWCVhIruE"
      },
      "source": [
        "# 1b. Data Exploration and Pre-processing"
      ]
    },
    {
      "cell_type": "markdown",
      "metadata": {},
      "source": [
        "<h2>- Splitting Data into Train/Test</h2>"
      ]
    },
    {
      "cell_type": "markdown",
      "metadata": {},
      "source": [
        "- I will be splitting the positive and negative text into train/test data as well as make a larger dataframe combining all the documents. The larger dataframe will be used for Exploratory Data Analysis purposes such as finding unique words, review length and plotting histogram."
      ]
    },
    {
      "cell_type": "code",
      "execution_count": null,
      "metadata": {
        "id": "-agslEl-VyHa"
      },
      "outputs": [],
      "source": [
        "# Train and Test Sets\n",
        "df_train = pd.concat([pd.DataFrame({'Text': pos_text[:700], 'Label': 1}), pd.DataFrame({'Text': neg_text[:700], 'Label': 0})]).reset_index(drop=True)\n",
        "df_test = pd.concat([pd.DataFrame({'Text': pos_text[700:], 'Label': 1}), pd.DataFrame({'Text': neg_text[700:], 'Label': 0})]).reset_index(drop=True)\n",
        "# All the text documents for EDA purposes\n",
        "df = pd.concat([pd.DataFrame({'Text': pos_text, 'Label': 1}), pd.DataFrame({'Text': neg_text, 'Label': 0})]).reset_index(drop=True)"
      ]
    },
    {
      "cell_type": "code",
      "execution_count": null,
      "metadata": {
        "colab": {
          "base_uri": "https://localhost:8080/",
          "height": 206
        },
        "id": "6fEdYJpOWK2P",
        "outputId": "e9ac52d5-81b3-4e64-c652-22745b83b5ac"
      },
      "outputs": [
        {
          "data": {
            "text/html": [
              "\n",
              "  <div id=\"df-82c2b696-a12a-4d8c-95de-bcd6117b3c9b\">\n",
              "    <div class=\"colab-df-container\">\n",
              "      <div>\n",
              "<style scoped>\n",
              "    .dataframe tbody tr th:only-of-type {\n",
              "        vertical-align: middle;\n",
              "    }\n",
              "\n",
              "    .dataframe tbody tr th {\n",
              "        vertical-align: top;\n",
              "    }\n",
              "\n",
              "    .dataframe thead th {\n",
              "        text-align: right;\n",
              "    }\n",
              "</style>\n",
              "<table border=\"1\" class=\"dataframe\">\n",
              "  <thead>\n",
              "    <tr style=\"text-align: right;\">\n",
              "      <th></th>\n",
              "      <th>Text</th>\n",
              "      <th>Label</th>\n",
              "    </tr>\n",
              "  </thead>\n",
              "  <tbody>\n",
              "    <tr>\n",
              "      <th>0</th>\n",
              "      <td>films adapted from comic books have had plenty...</td>\n",
              "      <td>1</td>\n",
              "    </tr>\n",
              "    <tr>\n",
              "      <th>1</th>\n",
              "      <td>every now and then a movie comes along from a ...</td>\n",
              "      <td>1</td>\n",
              "    </tr>\n",
              "    <tr>\n",
              "      <th>2</th>\n",
              "      <td>you've got mail works alot better than it dese...</td>\n",
              "      <td>1</td>\n",
              "    </tr>\n",
              "    <tr>\n",
              "      <th>3</th>\n",
              "      <td>\" jaws \" is a rare film that grabs your atten...</td>\n",
              "      <td>1</td>\n",
              "    </tr>\n",
              "    <tr>\n",
              "      <th>4</th>\n",
              "      <td>moviemaking is a lot like being the general ma...</td>\n",
              "      <td>1</td>\n",
              "    </tr>\n",
              "  </tbody>\n",
              "</table>\n",
              "</div>\n",
              "      <button class=\"colab-df-convert\" onclick=\"convertToInteractive('df-82c2b696-a12a-4d8c-95de-bcd6117b3c9b')\"\n",
              "              title=\"Convert this dataframe to an interactive table.\"\n",
              "              style=\"display:none;\">\n",
              "        \n",
              "  <svg xmlns=\"http://www.w3.org/2000/svg\" height=\"24px\"viewBox=\"0 0 24 24\"\n",
              "       width=\"24px\">\n",
              "    <path d=\"M0 0h24v24H0V0z\" fill=\"none\"/>\n",
              "    <path d=\"M18.56 5.44l.94 2.06.94-2.06 2.06-.94-2.06-.94-.94-2.06-.94 2.06-2.06.94zm-11 1L8.5 8.5l.94-2.06 2.06-.94-2.06-.94L8.5 2.5l-.94 2.06-2.06.94zm10 10l.94 2.06.94-2.06 2.06-.94-2.06-.94-.94-2.06-.94 2.06-2.06.94z\"/><path d=\"M17.41 7.96l-1.37-1.37c-.4-.4-.92-.59-1.43-.59-.52 0-1.04.2-1.43.59L10.3 9.45l-7.72 7.72c-.78.78-.78 2.05 0 2.83L4 21.41c.39.39.9.59 1.41.59.51 0 1.02-.2 1.41-.59l7.78-7.78 2.81-2.81c.8-.78.8-2.07 0-2.86zM5.41 20L4 18.59l7.72-7.72 1.47 1.35L5.41 20z\"/>\n",
              "  </svg>\n",
              "      </button>\n",
              "      \n",
              "  <style>\n",
              "    .colab-df-container {\n",
              "      display:flex;\n",
              "      flex-wrap:wrap;\n",
              "      gap: 12px;\n",
              "    }\n",
              "\n",
              "    .colab-df-convert {\n",
              "      background-color: #E8F0FE;\n",
              "      border: none;\n",
              "      border-radius: 50%;\n",
              "      cursor: pointer;\n",
              "      display: none;\n",
              "      fill: #1967D2;\n",
              "      height: 32px;\n",
              "      padding: 0 0 0 0;\n",
              "      width: 32px;\n",
              "    }\n",
              "\n",
              "    .colab-df-convert:hover {\n",
              "      background-color: #E2EBFA;\n",
              "      box-shadow: 0px 1px 2px rgba(60, 64, 67, 0.3), 0px 1px 3px 1px rgba(60, 64, 67, 0.15);\n",
              "      fill: #174EA6;\n",
              "    }\n",
              "\n",
              "    [theme=dark] .colab-df-convert {\n",
              "      background-color: #3B4455;\n",
              "      fill: #D2E3FC;\n",
              "    }\n",
              "\n",
              "    [theme=dark] .colab-df-convert:hover {\n",
              "      background-color: #434B5C;\n",
              "      box-shadow: 0px 1px 3px 1px rgba(0, 0, 0, 0.15);\n",
              "      filter: drop-shadow(0px 1px 2px rgba(0, 0, 0, 0.3));\n",
              "      fill: #FFFFFF;\n",
              "    }\n",
              "  </style>\n",
              "\n",
              "      <script>\n",
              "        const buttonEl =\n",
              "          document.querySelector('#df-82c2b696-a12a-4d8c-95de-bcd6117b3c9b button.colab-df-convert');\n",
              "        buttonEl.style.display =\n",
              "          google.colab.kernel.accessAllowed ? 'block' : 'none';\n",
              "\n",
              "        async function convertToInteractive(key) {\n",
              "          const element = document.querySelector('#df-82c2b696-a12a-4d8c-95de-bcd6117b3c9b');\n",
              "          const dataTable =\n",
              "            await google.colab.kernel.invokeFunction('convertToInteractive',\n",
              "                                                     [key], {});\n",
              "          if (!dataTable) return;\n",
              "\n",
              "          const docLinkHtml = 'Like what you see? Visit the ' +\n",
              "            '<a target=\"_blank\" href=https://colab.research.google.com/notebooks/data_table.ipynb>data table notebook</a>'\n",
              "            + ' to learn more about interactive tables.';\n",
              "          element.innerHTML = '';\n",
              "          dataTable['output_type'] = 'display_data';\n",
              "          await google.colab.output.renderOutput(dataTable, element);\n",
              "          const docLink = document.createElement('div');\n",
              "          docLink.innerHTML = docLinkHtml;\n",
              "          element.appendChild(docLink);\n",
              "        }\n",
              "      </script>\n",
              "    </div>\n",
              "  </div>\n",
              "  "
            ],
            "text/plain": [
              "                                                Text  Label\n",
              "0  films adapted from comic books have had plenty...      1\n",
              "1  every now and then a movie comes along from a ...      1\n",
              "2  you've got mail works alot better than it dese...      1\n",
              "3   \" jaws \" is a rare film that grabs your atten...      1\n",
              "4  moviemaking is a lot like being the general ma...      1"
            ]
          },
          "execution_count": 81,
          "metadata": {},
          "output_type": "execute_result"
        }
      ],
      "source": [
        "df_train.head()"
      ]
    },
    {
      "cell_type": "code",
      "execution_count": null,
      "metadata": {
        "colab": {
          "base_uri": "https://localhost:8080/",
          "height": 206
        },
        "id": "r87_ecVP3SU0",
        "outputId": "51055a31-d53a-4bf4-c6c1-190da60669c7"
      },
      "outputs": [
        {
          "data": {
            "text/html": [
              "\n",
              "  <div id=\"df-4a64555a-825b-4f76-8144-ce8a62265993\">\n",
              "    <div class=\"colab-df-container\">\n",
              "      <div>\n",
              "<style scoped>\n",
              "    .dataframe tbody tr th:only-of-type {\n",
              "        vertical-align: middle;\n",
              "    }\n",
              "\n",
              "    .dataframe tbody tr th {\n",
              "        vertical-align: top;\n",
              "    }\n",
              "\n",
              "    .dataframe thead th {\n",
              "        text-align: right;\n",
              "    }\n",
              "</style>\n",
              "<table border=\"1\" class=\"dataframe\">\n",
              "  <thead>\n",
              "    <tr style=\"text-align: right;\">\n",
              "      <th></th>\n",
              "      <th>Text</th>\n",
              "      <th>Label</th>\n",
              "    </tr>\n",
              "  </thead>\n",
              "  <tbody>\n",
              "    <tr>\n",
              "      <th>0</th>\n",
              "      <td>let me start off by saying that leading up to ...</td>\n",
              "      <td>1</td>\n",
              "    </tr>\n",
              "    <tr>\n",
              "      <th>1</th>\n",
              "      <td>seen september 5 , 1998 at 10 p . m . at the s...</td>\n",
              "      <td>1</td>\n",
              "    </tr>\n",
              "    <tr>\n",
              "      <th>2</th>\n",
              "      <td>the characters in \" palmetto \" collectively sw...</td>\n",
              "      <td>1</td>\n",
              "    </tr>\n",
              "    <tr>\n",
              "      <th>3</th>\n",
              "      <td>\" you've got mail \" is the very definition of...</td>\n",
              "      <td>1</td>\n",
              "    </tr>\n",
              "    <tr>\n",
              "      <th>4</th>\n",
              "      <td>with the sudden liberal emergence of personal ...</td>\n",
              "      <td>1</td>\n",
              "    </tr>\n",
              "  </tbody>\n",
              "</table>\n",
              "</div>\n",
              "      <button class=\"colab-df-convert\" onclick=\"convertToInteractive('df-4a64555a-825b-4f76-8144-ce8a62265993')\"\n",
              "              title=\"Convert this dataframe to an interactive table.\"\n",
              "              style=\"display:none;\">\n",
              "        \n",
              "  <svg xmlns=\"http://www.w3.org/2000/svg\" height=\"24px\"viewBox=\"0 0 24 24\"\n",
              "       width=\"24px\">\n",
              "    <path d=\"M0 0h24v24H0V0z\" fill=\"none\"/>\n",
              "    <path d=\"M18.56 5.44l.94 2.06.94-2.06 2.06-.94-2.06-.94-.94-2.06-.94 2.06-2.06.94zm-11 1L8.5 8.5l.94-2.06 2.06-.94-2.06-.94L8.5 2.5l-.94 2.06-2.06.94zm10 10l.94 2.06.94-2.06 2.06-.94-2.06-.94-.94-2.06-.94 2.06-2.06.94z\"/><path d=\"M17.41 7.96l-1.37-1.37c-.4-.4-.92-.59-1.43-.59-.52 0-1.04.2-1.43.59L10.3 9.45l-7.72 7.72c-.78.78-.78 2.05 0 2.83L4 21.41c.39.39.9.59 1.41.59.51 0 1.02-.2 1.41-.59l7.78-7.78 2.81-2.81c.8-.78.8-2.07 0-2.86zM5.41 20L4 18.59l7.72-7.72 1.47 1.35L5.41 20z\"/>\n",
              "  </svg>\n",
              "      </button>\n",
              "      \n",
              "  <style>\n",
              "    .colab-df-container {\n",
              "      display:flex;\n",
              "      flex-wrap:wrap;\n",
              "      gap: 12px;\n",
              "    }\n",
              "\n",
              "    .colab-df-convert {\n",
              "      background-color: #E8F0FE;\n",
              "      border: none;\n",
              "      border-radius: 50%;\n",
              "      cursor: pointer;\n",
              "      display: none;\n",
              "      fill: #1967D2;\n",
              "      height: 32px;\n",
              "      padding: 0 0 0 0;\n",
              "      width: 32px;\n",
              "    }\n",
              "\n",
              "    .colab-df-convert:hover {\n",
              "      background-color: #E2EBFA;\n",
              "      box-shadow: 0px 1px 2px rgba(60, 64, 67, 0.3), 0px 1px 3px 1px rgba(60, 64, 67, 0.15);\n",
              "      fill: #174EA6;\n",
              "    }\n",
              "\n",
              "    [theme=dark] .colab-df-convert {\n",
              "      background-color: #3B4455;\n",
              "      fill: #D2E3FC;\n",
              "    }\n",
              "\n",
              "    [theme=dark] .colab-df-convert:hover {\n",
              "      background-color: #434B5C;\n",
              "      box-shadow: 0px 1px 3px 1px rgba(0, 0, 0, 0.15);\n",
              "      filter: drop-shadow(0px 1px 2px rgba(0, 0, 0, 0.3));\n",
              "      fill: #FFFFFF;\n",
              "    }\n",
              "  </style>\n",
              "\n",
              "      <script>\n",
              "        const buttonEl =\n",
              "          document.querySelector('#df-4a64555a-825b-4f76-8144-ce8a62265993 button.colab-df-convert');\n",
              "        buttonEl.style.display =\n",
              "          google.colab.kernel.accessAllowed ? 'block' : 'none';\n",
              "\n",
              "        async function convertToInteractive(key) {\n",
              "          const element = document.querySelector('#df-4a64555a-825b-4f76-8144-ce8a62265993');\n",
              "          const dataTable =\n",
              "            await google.colab.kernel.invokeFunction('convertToInteractive',\n",
              "                                                     [key], {});\n",
              "          if (!dataTable) return;\n",
              "\n",
              "          const docLinkHtml = 'Like what you see? Visit the ' +\n",
              "            '<a target=\"_blank\" href=https://colab.research.google.com/notebooks/data_table.ipynb>data table notebook</a>'\n",
              "            + ' to learn more about interactive tables.';\n",
              "          element.innerHTML = '';\n",
              "          dataTable['output_type'] = 'display_data';\n",
              "          await google.colab.output.renderOutput(dataTable, element);\n",
              "          const docLink = document.createElement('div');\n",
              "          docLink.innerHTML = docLinkHtml;\n",
              "          element.appendChild(docLink);\n",
              "        }\n",
              "      </script>\n",
              "    </div>\n",
              "  </div>\n",
              "  "
            ],
            "text/plain": [
              "                                                Text  Label\n",
              "0  let me start off by saying that leading up to ...      1\n",
              "1  seen september 5 , 1998 at 10 p . m . at the s...      1\n",
              "2  the characters in \" palmetto \" collectively sw...      1\n",
              "3   \" you've got mail \" is the very definition of...      1\n",
              "4  with the sudden liberal emergence of personal ...      1"
            ]
          },
          "execution_count": 82,
          "metadata": {},
          "output_type": "execute_result"
        }
      ],
      "source": [
        "df_test.head()"
      ]
    },
    {
      "cell_type": "markdown",
      "metadata": {
        "id": "fSGC4jaT05ce"
      },
      "source": [
        "<h2>- Preprocessing: Removal of punctuation and numbers</h2>\n"
      ]
    },
    {
      "cell_type": "markdown",
      "metadata": {},
      "source": [
        "- Removing the punctuation and numbers to get clean sentences."
      ]
    },
    {
      "cell_type": "code",
      "execution_count": null,
      "metadata": {
        "id": "huaVdgEysM6L"
      },
      "outputs": [],
      "source": [
        "def preprocessing(x):\n",
        "    # Removal of punctuation and numbers\n",
        "    newline_removal = re.sub(r'\\n', '', x.lower())\n",
        "    punc_removal = newline_removal.translate(str.maketrans('', '', string.punctuation))\n",
        "    num_removal = re.sub(r'[0-9]', '', punc_removal).strip() \n",
        "\n",
        "    return num_removal\n",
        "\n",
        "df_train['clean_sentence'] = df_train['Text'].apply(lambda x: preprocessing(x))\n",
        "df_test['clean_sentence'] = df_test['Text'].apply(lambda x: preprocessing(x))\n",
        "df['clean_sentence'] = df['Text'].apply(lambda x: preprocessing(x))"
      ]
    },
    {
      "cell_type": "code",
      "execution_count": null,
      "metadata": {
        "colab": {
          "base_uri": "https://localhost:8080/",
          "height": 206
        },
        "id": "VZ2Ie4YpJXJA",
        "outputId": "26490dbc-0c2f-4491-eba6-8ea4aff5c801"
      },
      "outputs": [
        {
          "data": {
            "text/html": [
              "\n",
              "  <div id=\"df-d4eb4cfb-49ef-414e-b0fc-7f8d45ac76e7\">\n",
              "    <div class=\"colab-df-container\">\n",
              "      <div>\n",
              "<style scoped>\n",
              "    .dataframe tbody tr th:only-of-type {\n",
              "        vertical-align: middle;\n",
              "    }\n",
              "\n",
              "    .dataframe tbody tr th {\n",
              "        vertical-align: top;\n",
              "    }\n",
              "\n",
              "    .dataframe thead th {\n",
              "        text-align: right;\n",
              "    }\n",
              "</style>\n",
              "<table border=\"1\" class=\"dataframe\">\n",
              "  <thead>\n",
              "    <tr style=\"text-align: right;\">\n",
              "      <th></th>\n",
              "      <th>Text</th>\n",
              "      <th>Label</th>\n",
              "      <th>clean_sentence</th>\n",
              "    </tr>\n",
              "  </thead>\n",
              "  <tbody>\n",
              "    <tr>\n",
              "      <th>0</th>\n",
              "      <td>films adapted from comic books have had plenty...</td>\n",
              "      <td>1</td>\n",
              "      <td>films adapted from comic books have had plenty...</td>\n",
              "    </tr>\n",
              "    <tr>\n",
              "      <th>1</th>\n",
              "      <td>every now and then a movie comes along from a ...</td>\n",
              "      <td>1</td>\n",
              "      <td>every now and then a movie comes along from a ...</td>\n",
              "    </tr>\n",
              "    <tr>\n",
              "      <th>2</th>\n",
              "      <td>you've got mail works alot better than it dese...</td>\n",
              "      <td>1</td>\n",
              "      <td>youve got mail works alot better than it deser...</td>\n",
              "    </tr>\n",
              "    <tr>\n",
              "      <th>3</th>\n",
              "      <td>\" jaws \" is a rare film that grabs your atten...</td>\n",
              "      <td>1</td>\n",
              "      <td>jaws  is a rare film that grabs your attention...</td>\n",
              "    </tr>\n",
              "    <tr>\n",
              "      <th>4</th>\n",
              "      <td>moviemaking is a lot like being the general ma...</td>\n",
              "      <td>1</td>\n",
              "      <td>moviemaking is a lot like being the general ma...</td>\n",
              "    </tr>\n",
              "  </tbody>\n",
              "</table>\n",
              "</div>\n",
              "      <button class=\"colab-df-convert\" onclick=\"convertToInteractive('df-d4eb4cfb-49ef-414e-b0fc-7f8d45ac76e7')\"\n",
              "              title=\"Convert this dataframe to an interactive table.\"\n",
              "              style=\"display:none;\">\n",
              "        \n",
              "  <svg xmlns=\"http://www.w3.org/2000/svg\" height=\"24px\"viewBox=\"0 0 24 24\"\n",
              "       width=\"24px\">\n",
              "    <path d=\"M0 0h24v24H0V0z\" fill=\"none\"/>\n",
              "    <path d=\"M18.56 5.44l.94 2.06.94-2.06 2.06-.94-2.06-.94-.94-2.06-.94 2.06-2.06.94zm-11 1L8.5 8.5l.94-2.06 2.06-.94-2.06-.94L8.5 2.5l-.94 2.06-2.06.94zm10 10l.94 2.06.94-2.06 2.06-.94-2.06-.94-.94-2.06-.94 2.06-2.06.94z\"/><path d=\"M17.41 7.96l-1.37-1.37c-.4-.4-.92-.59-1.43-.59-.52 0-1.04.2-1.43.59L10.3 9.45l-7.72 7.72c-.78.78-.78 2.05 0 2.83L4 21.41c.39.39.9.59 1.41.59.51 0 1.02-.2 1.41-.59l7.78-7.78 2.81-2.81c.8-.78.8-2.07 0-2.86zM5.41 20L4 18.59l7.72-7.72 1.47 1.35L5.41 20z\"/>\n",
              "  </svg>\n",
              "      </button>\n",
              "      \n",
              "  <style>\n",
              "    .colab-df-container {\n",
              "      display:flex;\n",
              "      flex-wrap:wrap;\n",
              "      gap: 12px;\n",
              "    }\n",
              "\n",
              "    .colab-df-convert {\n",
              "      background-color: #E8F0FE;\n",
              "      border: none;\n",
              "      border-radius: 50%;\n",
              "      cursor: pointer;\n",
              "      display: none;\n",
              "      fill: #1967D2;\n",
              "      height: 32px;\n",
              "      padding: 0 0 0 0;\n",
              "      width: 32px;\n",
              "    }\n",
              "\n",
              "    .colab-df-convert:hover {\n",
              "      background-color: #E2EBFA;\n",
              "      box-shadow: 0px 1px 2px rgba(60, 64, 67, 0.3), 0px 1px 3px 1px rgba(60, 64, 67, 0.15);\n",
              "      fill: #174EA6;\n",
              "    }\n",
              "\n",
              "    [theme=dark] .colab-df-convert {\n",
              "      background-color: #3B4455;\n",
              "      fill: #D2E3FC;\n",
              "    }\n",
              "\n",
              "    [theme=dark] .colab-df-convert:hover {\n",
              "      background-color: #434B5C;\n",
              "      box-shadow: 0px 1px 3px 1px rgba(0, 0, 0, 0.15);\n",
              "      filter: drop-shadow(0px 1px 2px rgba(0, 0, 0, 0.3));\n",
              "      fill: #FFFFFF;\n",
              "    }\n",
              "  </style>\n",
              "\n",
              "      <script>\n",
              "        const buttonEl =\n",
              "          document.querySelector('#df-d4eb4cfb-49ef-414e-b0fc-7f8d45ac76e7 button.colab-df-convert');\n",
              "        buttonEl.style.display =\n",
              "          google.colab.kernel.accessAllowed ? 'block' : 'none';\n",
              "\n",
              "        async function convertToInteractive(key) {\n",
              "          const element = document.querySelector('#df-d4eb4cfb-49ef-414e-b0fc-7f8d45ac76e7');\n",
              "          const dataTable =\n",
              "            await google.colab.kernel.invokeFunction('convertToInteractive',\n",
              "                                                     [key], {});\n",
              "          if (!dataTable) return;\n",
              "\n",
              "          const docLinkHtml = 'Like what you see? Visit the ' +\n",
              "            '<a target=\"_blank\" href=https://colab.research.google.com/notebooks/data_table.ipynb>data table notebook</a>'\n",
              "            + ' to learn more about interactive tables.';\n",
              "          element.innerHTML = '';\n",
              "          dataTable['output_type'] = 'display_data';\n",
              "          await google.colab.output.renderOutput(dataTable, element);\n",
              "          const docLink = document.createElement('div');\n",
              "          docLink.innerHTML = docLinkHtml;\n",
              "          element.appendChild(docLink);\n",
              "        }\n",
              "      </script>\n",
              "    </div>\n",
              "  </div>\n",
              "  "
            ],
            "text/plain": [
              "                                                Text  Label  \\\n",
              "0  films adapted from comic books have had plenty...      1   \n",
              "1  every now and then a movie comes along from a ...      1   \n",
              "2  you've got mail works alot better than it dese...      1   \n",
              "3   \" jaws \" is a rare film that grabs your atten...      1   \n",
              "4  moviemaking is a lot like being the general ma...      1   \n",
              "\n",
              "                                      clean_sentence  \n",
              "0  films adapted from comic books have had plenty...  \n",
              "1  every now and then a movie comes along from a ...  \n",
              "2  youve got mail works alot better than it deser...  \n",
              "3  jaws  is a rare film that grabs your attention...  \n",
              "4  moviemaking is a lot like being the general ma...  "
            ]
          },
          "execution_count": 151,
          "metadata": {},
          "output_type": "execute_result"
        }
      ],
      "source": [
        "df_train.head()"
      ]
    },
    {
      "cell_type": "code",
      "execution_count": null,
      "metadata": {
        "colab": {
          "base_uri": "https://localhost:8080/",
          "height": 206
        },
        "id": "bw6F7BwQJZ8a",
        "outputId": "29b6609b-5688-4964-ce8f-1ce1b936f7df"
      },
      "outputs": [
        {
          "data": {
            "text/html": [
              "\n",
              "  <div id=\"df-12ae6852-41e9-4560-a88f-966254f18ca7\">\n",
              "    <div class=\"colab-df-container\">\n",
              "      <div>\n",
              "<style scoped>\n",
              "    .dataframe tbody tr th:only-of-type {\n",
              "        vertical-align: middle;\n",
              "    }\n",
              "\n",
              "    .dataframe tbody tr th {\n",
              "        vertical-align: top;\n",
              "    }\n",
              "\n",
              "    .dataframe thead th {\n",
              "        text-align: right;\n",
              "    }\n",
              "</style>\n",
              "<table border=\"1\" class=\"dataframe\">\n",
              "  <thead>\n",
              "    <tr style=\"text-align: right;\">\n",
              "      <th></th>\n",
              "      <th>Text</th>\n",
              "      <th>Label</th>\n",
              "      <th>clean_sentence</th>\n",
              "    </tr>\n",
              "  </thead>\n",
              "  <tbody>\n",
              "    <tr>\n",
              "      <th>1995</th>\n",
              "      <td>if anything , \" stigmata \" should be taken as ...</td>\n",
              "      <td>0</td>\n",
              "      <td>if anything   stigmata  should be taken as a w...</td>\n",
              "    </tr>\n",
              "    <tr>\n",
              "      <th>1996</th>\n",
              "      <td>john boorman's \" zardoz \" is a goofy cinematic...</td>\n",
              "      <td>0</td>\n",
              "      <td>john boormans  zardoz  is a goofy cinematic de...</td>\n",
              "    </tr>\n",
              "    <tr>\n",
              "      <th>1997</th>\n",
              "      <td>the kids in the hall are an acquired taste . \\...</td>\n",
              "      <td>0</td>\n",
              "      <td>the kids in the hall are an acquired taste  it...</td>\n",
              "    </tr>\n",
              "    <tr>\n",
              "      <th>1998</th>\n",
              "      <td>there was a time when john carpenter was a gre...</td>\n",
              "      <td>0</td>\n",
              "      <td>there was a time when john carpenter was a gre...</td>\n",
              "    </tr>\n",
              "    <tr>\n",
              "      <th>1999</th>\n",
              "      <td>two party guys bob their heads to haddaway's d...</td>\n",
              "      <td>0</td>\n",
              "      <td>two party guys bob their heads to haddaways da...</td>\n",
              "    </tr>\n",
              "  </tbody>\n",
              "</table>\n",
              "</div>\n",
              "      <button class=\"colab-df-convert\" onclick=\"convertToInteractive('df-12ae6852-41e9-4560-a88f-966254f18ca7')\"\n",
              "              title=\"Convert this dataframe to an interactive table.\"\n",
              "              style=\"display:none;\">\n",
              "        \n",
              "  <svg xmlns=\"http://www.w3.org/2000/svg\" height=\"24px\"viewBox=\"0 0 24 24\"\n",
              "       width=\"24px\">\n",
              "    <path d=\"M0 0h24v24H0V0z\" fill=\"none\"/>\n",
              "    <path d=\"M18.56 5.44l.94 2.06.94-2.06 2.06-.94-2.06-.94-.94-2.06-.94 2.06-2.06.94zm-11 1L8.5 8.5l.94-2.06 2.06-.94-2.06-.94L8.5 2.5l-.94 2.06-2.06.94zm10 10l.94 2.06.94-2.06 2.06-.94-2.06-.94-.94-2.06-.94 2.06-2.06.94z\"/><path d=\"M17.41 7.96l-1.37-1.37c-.4-.4-.92-.59-1.43-.59-.52 0-1.04.2-1.43.59L10.3 9.45l-7.72 7.72c-.78.78-.78 2.05 0 2.83L4 21.41c.39.39.9.59 1.41.59.51 0 1.02-.2 1.41-.59l7.78-7.78 2.81-2.81c.8-.78.8-2.07 0-2.86zM5.41 20L4 18.59l7.72-7.72 1.47 1.35L5.41 20z\"/>\n",
              "  </svg>\n",
              "      </button>\n",
              "      \n",
              "  <style>\n",
              "    .colab-df-container {\n",
              "      display:flex;\n",
              "      flex-wrap:wrap;\n",
              "      gap: 12px;\n",
              "    }\n",
              "\n",
              "    .colab-df-convert {\n",
              "      background-color: #E8F0FE;\n",
              "      border: none;\n",
              "      border-radius: 50%;\n",
              "      cursor: pointer;\n",
              "      display: none;\n",
              "      fill: #1967D2;\n",
              "      height: 32px;\n",
              "      padding: 0 0 0 0;\n",
              "      width: 32px;\n",
              "    }\n",
              "\n",
              "    .colab-df-convert:hover {\n",
              "      background-color: #E2EBFA;\n",
              "      box-shadow: 0px 1px 2px rgba(60, 64, 67, 0.3), 0px 1px 3px 1px rgba(60, 64, 67, 0.15);\n",
              "      fill: #174EA6;\n",
              "    }\n",
              "\n",
              "    [theme=dark] .colab-df-convert {\n",
              "      background-color: #3B4455;\n",
              "      fill: #D2E3FC;\n",
              "    }\n",
              "\n",
              "    [theme=dark] .colab-df-convert:hover {\n",
              "      background-color: #434B5C;\n",
              "      box-shadow: 0px 1px 3px 1px rgba(0, 0, 0, 0.15);\n",
              "      filter: drop-shadow(0px 1px 2px rgba(0, 0, 0, 0.3));\n",
              "      fill: #FFFFFF;\n",
              "    }\n",
              "  </style>\n",
              "\n",
              "      <script>\n",
              "        const buttonEl =\n",
              "          document.querySelector('#df-12ae6852-41e9-4560-a88f-966254f18ca7 button.colab-df-convert');\n",
              "        buttonEl.style.display =\n",
              "          google.colab.kernel.accessAllowed ? 'block' : 'none';\n",
              "\n",
              "        async function convertToInteractive(key) {\n",
              "          const element = document.querySelector('#df-12ae6852-41e9-4560-a88f-966254f18ca7');\n",
              "          const dataTable =\n",
              "            await google.colab.kernel.invokeFunction('convertToInteractive',\n",
              "                                                     [key], {});\n",
              "          if (!dataTable) return;\n",
              "\n",
              "          const docLinkHtml = 'Like what you see? Visit the ' +\n",
              "            '<a target=\"_blank\" href=https://colab.research.google.com/notebooks/data_table.ipynb>data table notebook</a>'\n",
              "            + ' to learn more about interactive tables.';\n",
              "          element.innerHTML = '';\n",
              "          dataTable['output_type'] = 'display_data';\n",
              "          await google.colab.output.renderOutput(dataTable, element);\n",
              "          const docLink = document.createElement('div');\n",
              "          docLink.innerHTML = docLinkHtml;\n",
              "          element.appendChild(docLink);\n",
              "        }\n",
              "      </script>\n",
              "    </div>\n",
              "  </div>\n",
              "  "
            ],
            "text/plain": [
              "                                                   Text  Label  \\\n",
              "1995  if anything , \" stigmata \" should be taken as ...      0   \n",
              "1996  john boorman's \" zardoz \" is a goofy cinematic...      0   \n",
              "1997  the kids in the hall are an acquired taste . \\...      0   \n",
              "1998  there was a time when john carpenter was a gre...      0   \n",
              "1999  two party guys bob their heads to haddaway's d...      0   \n",
              "\n",
              "                                         clean_sentence  \n",
              "1995  if anything   stigmata  should be taken as a w...  \n",
              "1996  john boormans  zardoz  is a goofy cinematic de...  \n",
              "1997  the kids in the hall are an acquired taste  it...  \n",
              "1998  there was a time when john carpenter was a gre...  \n",
              "1999  two party guys bob their heads to haddaways da...  "
            ]
          },
          "execution_count": 153,
          "metadata": {},
          "output_type": "execute_result"
        }
      ],
      "source": [
        "df.tail()"
      ]
    },
    {
      "cell_type": "markdown",
      "metadata": {
        "id": "05LVa6rni8Ja"
      },
      "source": [
        "<h2>- Number of Unique Words</h2>"
      ]
    },
    {
      "cell_type": "code",
      "execution_count": null,
      "metadata": {
        "colab": {
          "base_uri": "https://localhost:8080/"
        },
        "id": "7MZfZxb-JVZg",
        "outputId": "1c2d7a9b-a6ec-43be-d8e0-deef97413249"
      },
      "outputs": [
        {
          "name": "stdout",
          "output_type": "stream",
          "text": [
            "Number of unique words: 46825\n"
          ]
        }
      ],
      "source": [
        "unique_words = []\n",
        "\n",
        "for i in range(len(df)):\n",
        "  tokens = word_tokenize(df['clean_sentence'].iloc[i])\n",
        "  unique_words.extend(tokens)\n",
        "\n",
        "unique_words = set(unique_words)\n",
        "\n",
        "print(f'Number of unique words: {len(unique_words)}')"
      ]
    },
    {
      "cell_type": "markdown",
      "metadata": {
        "id": "g0koeQZtKVHc"
      },
      "source": [
        "<h2>- Average Review Length and Standard Deviation</h2>"
      ]
    },
    {
      "cell_type": "code",
      "execution_count": null,
      "metadata": {
        "colab": {
          "base_uri": "https://localhost:8080/",
          "height": 206
        },
        "id": "IRSCeCpxKY7f",
        "outputId": "9b3172c0-a4c7-4b1a-e90b-2b1731c536dd"
      },
      "outputs": [
        {
          "data": {
            "text/html": [
              "\n",
              "  <div id=\"df-1de6093c-020e-404f-a21f-2d47f9c686f2\">\n",
              "    <div class=\"colab-df-container\">\n",
              "      <div>\n",
              "<style scoped>\n",
              "    .dataframe tbody tr th:only-of-type {\n",
              "        vertical-align: middle;\n",
              "    }\n",
              "\n",
              "    .dataframe tbody tr th {\n",
              "        vertical-align: top;\n",
              "    }\n",
              "\n",
              "    .dataframe thead th {\n",
              "        text-align: right;\n",
              "    }\n",
              "</style>\n",
              "<table border=\"1\" class=\"dataframe\">\n",
              "  <thead>\n",
              "    <tr style=\"text-align: right;\">\n",
              "      <th></th>\n",
              "      <th>Text</th>\n",
              "      <th>Label</th>\n",
              "      <th>clean_sentence</th>\n",
              "      <th>Review Length</th>\n",
              "    </tr>\n",
              "  </thead>\n",
              "  <tbody>\n",
              "    <tr>\n",
              "      <th>0</th>\n",
              "      <td>films adapted from comic books have had plenty...</td>\n",
              "      <td>1</td>\n",
              "      <td>films adapted from comic books have had plenty...</td>\n",
              "      <td>679</td>\n",
              "    </tr>\n",
              "    <tr>\n",
              "      <th>1</th>\n",
              "      <td>every now and then a movie comes along from a ...</td>\n",
              "      <td>1</td>\n",
              "      <td>every now and then a movie comes along from a ...</td>\n",
              "      <td>650</td>\n",
              "    </tr>\n",
              "    <tr>\n",
              "      <th>2</th>\n",
              "      <td>you've got mail works alot better than it dese...</td>\n",
              "      <td>1</td>\n",
              "      <td>youve got mail works alot better than it deser...</td>\n",
              "      <td>416</td>\n",
              "    </tr>\n",
              "    <tr>\n",
              "      <th>3</th>\n",
              "      <td>\" jaws \" is a rare film that grabs your atten...</td>\n",
              "      <td>1</td>\n",
              "      <td>jaws  is a rare film that grabs your attention...</td>\n",
              "      <td>997</td>\n",
              "    </tr>\n",
              "    <tr>\n",
              "      <th>4</th>\n",
              "      <td>moviemaking is a lot like being the general ma...</td>\n",
              "      <td>1</td>\n",
              "      <td>moviemaking is a lot like being the general ma...</td>\n",
              "      <td>644</td>\n",
              "    </tr>\n",
              "  </tbody>\n",
              "</table>\n",
              "</div>\n",
              "      <button class=\"colab-df-convert\" onclick=\"convertToInteractive('df-1de6093c-020e-404f-a21f-2d47f9c686f2')\"\n",
              "              title=\"Convert this dataframe to an interactive table.\"\n",
              "              style=\"display:none;\">\n",
              "        \n",
              "  <svg xmlns=\"http://www.w3.org/2000/svg\" height=\"24px\"viewBox=\"0 0 24 24\"\n",
              "       width=\"24px\">\n",
              "    <path d=\"M0 0h24v24H0V0z\" fill=\"none\"/>\n",
              "    <path d=\"M18.56 5.44l.94 2.06.94-2.06 2.06-.94-2.06-.94-.94-2.06-.94 2.06-2.06.94zm-11 1L8.5 8.5l.94-2.06 2.06-.94-2.06-.94L8.5 2.5l-.94 2.06-2.06.94zm10 10l.94 2.06.94-2.06 2.06-.94-2.06-.94-.94-2.06-.94 2.06-2.06.94z\"/><path d=\"M17.41 7.96l-1.37-1.37c-.4-.4-.92-.59-1.43-.59-.52 0-1.04.2-1.43.59L10.3 9.45l-7.72 7.72c-.78.78-.78 2.05 0 2.83L4 21.41c.39.39.9.59 1.41.59.51 0 1.02-.2 1.41-.59l7.78-7.78 2.81-2.81c.8-.78.8-2.07 0-2.86zM5.41 20L4 18.59l7.72-7.72 1.47 1.35L5.41 20z\"/>\n",
              "  </svg>\n",
              "      </button>\n",
              "      \n",
              "  <style>\n",
              "    .colab-df-container {\n",
              "      display:flex;\n",
              "      flex-wrap:wrap;\n",
              "      gap: 12px;\n",
              "    }\n",
              "\n",
              "    .colab-df-convert {\n",
              "      background-color: #E8F0FE;\n",
              "      border: none;\n",
              "      border-radius: 50%;\n",
              "      cursor: pointer;\n",
              "      display: none;\n",
              "      fill: #1967D2;\n",
              "      height: 32px;\n",
              "      padding: 0 0 0 0;\n",
              "      width: 32px;\n",
              "    }\n",
              "\n",
              "    .colab-df-convert:hover {\n",
              "      background-color: #E2EBFA;\n",
              "      box-shadow: 0px 1px 2px rgba(60, 64, 67, 0.3), 0px 1px 3px 1px rgba(60, 64, 67, 0.15);\n",
              "      fill: #174EA6;\n",
              "    }\n",
              "\n",
              "    [theme=dark] .colab-df-convert {\n",
              "      background-color: #3B4455;\n",
              "      fill: #D2E3FC;\n",
              "    }\n",
              "\n",
              "    [theme=dark] .colab-df-convert:hover {\n",
              "      background-color: #434B5C;\n",
              "      box-shadow: 0px 1px 3px 1px rgba(0, 0, 0, 0.15);\n",
              "      filter: drop-shadow(0px 1px 2px rgba(0, 0, 0, 0.3));\n",
              "      fill: #FFFFFF;\n",
              "    }\n",
              "  </style>\n",
              "\n",
              "      <script>\n",
              "        const buttonEl =\n",
              "          document.querySelector('#df-1de6093c-020e-404f-a21f-2d47f9c686f2 button.colab-df-convert');\n",
              "        buttonEl.style.display =\n",
              "          google.colab.kernel.accessAllowed ? 'block' : 'none';\n",
              "\n",
              "        async function convertToInteractive(key) {\n",
              "          const element = document.querySelector('#df-1de6093c-020e-404f-a21f-2d47f9c686f2');\n",
              "          const dataTable =\n",
              "            await google.colab.kernel.invokeFunction('convertToInteractive',\n",
              "                                                     [key], {});\n",
              "          if (!dataTable) return;\n",
              "\n",
              "          const docLinkHtml = 'Like what you see? Visit the ' +\n",
              "            '<a target=\"_blank\" href=https://colab.research.google.com/notebooks/data_table.ipynb>data table notebook</a>'\n",
              "            + ' to learn more about interactive tables.';\n",
              "          element.innerHTML = '';\n",
              "          dataTable['output_type'] = 'display_data';\n",
              "          await google.colab.output.renderOutput(dataTable, element);\n",
              "          const docLink = document.createElement('div');\n",
              "          docLink.innerHTML = docLinkHtml;\n",
              "          element.appendChild(docLink);\n",
              "        }\n",
              "      </script>\n",
              "    </div>\n",
              "  </div>\n",
              "  "
            ],
            "text/plain": [
              "                                                Text  Label  \\\n",
              "0  films adapted from comic books have had plenty...      1   \n",
              "1  every now and then a movie comes along from a ...      1   \n",
              "2  you've got mail works alot better than it dese...      1   \n",
              "3   \" jaws \" is a rare film that grabs your atten...      1   \n",
              "4  moviemaking is a lot like being the general ma...      1   \n",
              "\n",
              "                                      clean_sentence  Review Length  \n",
              "0  films adapted from comic books have had plenty...            679  \n",
              "1  every now and then a movie comes along from a ...            650  \n",
              "2  youve got mail works alot better than it deser...            416  \n",
              "3  jaws  is a rare film that grabs your attention...            997  \n",
              "4  moviemaking is a lot like being the general ma...            644  "
            ]
          },
          "execution_count": 158,
          "metadata": {},
          "output_type": "execute_result"
        }
      ],
      "source": [
        "df['Review Length'] = df['clean_sentence'].apply(lambda x: len(word_tokenize(x)))"
      ]
    },
    {
      "cell_type": "code",
      "execution_count": null,
      "metadata": {
        "colab": {
          "base_uri": "https://localhost:8080/"
        },
        "id": "Fp8VwCPtKyIn",
        "outputId": "7101a2b3-1622-486b-8e38-555aaab1d98c"
      },
      "outputs": [
        {
          "name": "stdout",
          "output_type": "stream",
          "text": [
            "Average Review Length: 644.473\n",
            "Standard Deviation of Review Length: 285.0264571421397\n"
          ]
        }
      ],
      "source": [
        "print(f'Average Review Length: {np.mean(df[\"Review Length\"].values)}')\n",
        "print(f'Standard Deviation of Review Length: {np.std(df[\"Review Length\"].values)}')"
      ]
    },
    {
      "cell_type": "markdown",
      "metadata": {
        "id": "WWopAe0WLCJ5"
      },
      "source": [
        "<h2>- Histogram of Review Lengths</h2>"
      ]
    },
    {
      "cell_type": "code",
      "execution_count": null,
      "metadata": {
        "colab": {
          "base_uri": "https://localhost:8080/",
          "height": 404
        },
        "id": "_x7C6nFGLAmf",
        "outputId": "d1d21518-173e-4beb-f411-cd41f4909373"
      },
      "outputs": [
        {
          "data": {
            "image/png": "[encoded data removed]",
            "text/plain": [
              "<Figure size 1080x432 with 1 Axes>"
            ]
          },
          "metadata": {
            "needs_background": "light"
          },
          "output_type": "display_data"
        }
      ],
      "source": [
        "plt.figure(figsize=(15,6))\n",
        "plt.hist(df[\"Review Length\"].values.tolist())\n",
        "plt.xlabel('Review Lengths')\n",
        "plt.ylabel('Frequency')\n",
        "plt.title('Histogram of Review Lengths')\n",
        "plt.grid()"
      ]
    },
    {
      "cell_type": "markdown",
      "metadata": {},
      "source": [
        "- The above histogram suggests that there is a high frequency of documents that have review lengths anywhere between 500-650 while review lengths greater than 1000 are rarer."
      ]
    },
    {
      "cell_type": "markdown",
      "metadata": {
        "id": "3swE6KU8H15G"
      },
      "source": [
        "<h2>- Preprocessing: Tokenization based on Popularity Rank of Words</h2>"
      ]
    },
    {
      "cell_type": "markdown",
      "metadata": {},
      "source": [
        "- For the tokenization, I will be applying this procedure on the train set to capture the top 5000 most frequent words and finding their word indexes.\n",
        "- I will apply on the train set and then use the learned vocabulary to transform the test set."
      ]
    },
    {
      "cell_type": "code",
      "execution_count": null,
      "metadata": {
        "id": "5HbxAN9P30F-"
      },
      "outputs": [],
      "source": [
        "# Setting the num_words to be 5000 based on word frequency.\n",
        "# Fitting on the train set and applying the transformation to the test set.\n",
        "tok = Tokenizer(5000)\n",
        "tok.fit_on_texts(df_train['clean_sentence'].values.tolist())\n",
        "tokenized_train = tok.texts_to_sequences(df_train['clean_sentence'].values.tolist())\n",
        "tokenized_test = tok.texts_to_sequences(df_test['clean_sentence'].values.tolist())\n",
        "\n",
        "df_train['tokenized_sentence'] = tokenized_train\n",
        "df_test['tokenized_sentence'] = tokenized_test"
      ]
    },
    {
      "cell_type": "code",
      "execution_count": null,
      "metadata": {
        "colab": {
          "base_uri": "https://localhost:8080/",
          "height": 424
        },
        "id": "OD7IJrcL6rVS",
        "outputId": "2eb0c279-d9c9-4b72-a1a8-1289f5a7945e"
      },
      "outputs": [
        {
          "data": {
            "text/html": [
              "\n",
              "  <div id=\"df-9b0b3edc-d1e0-4d5b-90f8-41b2753aaabd\">\n",
              "    <div class=\"colab-df-container\">\n",
              "      <div>\n",
              "<style scoped>\n",
              "    .dataframe tbody tr th:only-of-type {\n",
              "        vertical-align: middle;\n",
              "    }\n",
              "\n",
              "    .dataframe tbody tr th {\n",
              "        vertical-align: top;\n",
              "    }\n",
              "\n",
              "    .dataframe thead th {\n",
              "        text-align: right;\n",
              "    }\n",
              "</style>\n",
              "<table border=\"1\" class=\"dataframe\">\n",
              "  <thead>\n",
              "    <tr style=\"text-align: right;\">\n",
              "      <th></th>\n",
              "      <th>Text</th>\n",
              "      <th>Label</th>\n",
              "      <th>clean_sentence</th>\n",
              "      <th>tokenized_sentence</th>\n",
              "    </tr>\n",
              "  </thead>\n",
              "  <tbody>\n",
              "    <tr>\n",
              "      <th>0</th>\n",
              "      <td>films adapted from comic books have had plenty...</td>\n",
              "      <td>1</td>\n",
              "      <td>films adapted from comic books have had plenty...</td>\n",
              "      <td>[66, 3436, 31, 344, 1573, 32, 90, 1069, 4, 616...</td>\n",
              "    </tr>\n",
              "    <tr>\n",
              "      <th>1</th>\n",
              "      <td>every now and then a movie comes along from a ...</td>\n",
              "      <td>1</td>\n",
              "      <td>every now and then a movie comes along from a ...</td>\n",
              "      <td>[149, 141, 3, 97, 2, 28, 200, 256, 31, 2, 1574...</td>\n",
              "    </tr>\n",
              "    <tr>\n",
              "      <th>2</th>\n",
              "      <td>you've got mail works alot better than it dese...</td>\n",
              "      <td>1</td>\n",
              "      <td>youve got mail works alot better than it deser...</td>\n",
              "      <td>[715, 287, 4181, 376, 155, 59, 9, 1168, 5, 7, ...</td>\n",
              "    </tr>\n",
              "    <tr>\n",
              "      <th>3</th>\n",
              "      <td>\" jaws \" is a rare film that grabs your atten...</td>\n",
              "      <td>1</td>\n",
              "      <td>jaws  is a rare film that grabs your attention...</td>\n",
              "      <td>[2677, 6, 2, 1520, 15, 8, 164, 565, 145, 9, 31...</td>\n",
              "    </tr>\n",
              "    <tr>\n",
              "      <th>4</th>\n",
              "      <td>moviemaking is a lot like being the general ma...</td>\n",
              "      <td>1</td>\n",
              "      <td>moviemaking is a lot like being the general ma...</td>\n",
              "      <td>[6, 2, 207, 38, 112, 1, 835, 2680, 4, 24, 463,...</td>\n",
              "    </tr>\n",
              "    <tr>\n",
              "      <th>...</th>\n",
              "      <td>...</td>\n",
              "      <td>...</td>\n",
              "      <td>...</td>\n",
              "      <td>...</td>\n",
              "    </tr>\n",
              "    <tr>\n",
              "      <th>1395</th>\n",
              "      <td>house on haunted hill ( 1999 ) starring taye d...</td>\n",
              "      <td>0</td>\n",
              "      <td>house on haunted hill    starring taye diggs  ...</td>\n",
              "      <td>[401, 19, 2402, 1533, 720, 3686, 1312, 4770, 5...</td>\n",
              "    </tr>\n",
              "    <tr>\n",
              "      <th>1396</th>\n",
              "      <td>fit for a ghoul's night out , fat girl stands ...</td>\n",
              "      <td>0</td>\n",
              "      <td>fit for a ghouls night out  fat girl stands ca...</td>\n",
              "      <td>[1794, 12, 2, 346, 40, 1876, 341, 1238, 186, 2...</td>\n",
              "    </tr>\n",
              "    <tr>\n",
              "      <th>1397</th>\n",
              "      <td>\" marie couldn't talk , \" paulie , the parrot...</td>\n",
              "      <td>0</td>\n",
              "      <td>marie couldnt talk   paulie  the parrot star o...</td>\n",
              "      <td>[661, 600, 4616, 1, 208, 4, 13, 183, 28, 590, ...</td>\n",
              "    </tr>\n",
              "    <tr>\n",
              "      <th>1398</th>\n",
              "      <td>well , here's a distasteful , thoroughly amate...</td>\n",
              "      <td>0</td>\n",
              "      <td>well  heres a distasteful  thoroughly amateuri...</td>\n",
              "      <td>[83, 1710, 2, 1915, 8, 666, 30, 174, 2, 3261, ...</td>\n",
              "    </tr>\n",
              "    <tr>\n",
              "      <th>1399</th>\n",
              "      <td>okay , i just don't know why , but i seem to b...</td>\n",
              "      <td>0</td>\n",
              "      <td>okay  i just dont know why  but i seem to be g...</td>\n",
              "      <td>[1107, 18, 50, 119, 118, 168, 16, 18, 239, 5, ...</td>\n",
              "    </tr>\n",
              "  </tbody>\n",
              "</table>\n",
              "<p>1400 rows × 4 columns</p>\n",
              "</div>\n",
              "      <button class=\"colab-df-convert\" onclick=\"convertToInteractive('df-9b0b3edc-d1e0-4d5b-90f8-41b2753aaabd')\"\n",
              "              title=\"Convert this dataframe to an interactive table.\"\n",
              "              style=\"display:none;\">\n",
              "        \n",
              "  <svg xmlns=\"http://www.w3.org/2000/svg\" height=\"24px\"viewBox=\"0 0 24 24\"\n",
              "       width=\"24px\">\n",
              "    <path d=\"M0 0h24v24H0V0z\" fill=\"none\"/>\n",
              "    <path d=\"M18.56 5.44l.94 2.06.94-2.06 2.06-.94-2.06-.94-.94-2.06-.94 2.06-2.06.94zm-11 1L8.5 8.5l.94-2.06 2.06-.94-2.06-.94L8.5 2.5l-.94 2.06-2.06.94zm10 10l.94 2.06.94-2.06 2.06-.94-2.06-.94-.94-2.06-.94 2.06-2.06.94z\"/><path d=\"M17.41 7.96l-1.37-1.37c-.4-.4-.92-.59-1.43-.59-.52 0-1.04.2-1.43.59L10.3 9.45l-7.72 7.72c-.78.78-.78 2.05 0 2.83L4 21.41c.39.39.9.59 1.41.59.51 0 1.02-.2 1.41-.59l7.78-7.78 2.81-2.81c.8-.78.8-2.07 0-2.86zM5.41 20L4 18.59l7.72-7.72 1.47 1.35L5.41 20z\"/>\n",
              "  </svg>\n",
              "      </button>\n",
              "      \n",
              "  <style>\n",
              "    .colab-df-container {\n",
              "      display:flex;\n",
              "      flex-wrap:wrap;\n",
              "      gap: 12px;\n",
              "    }\n",
              "\n",
              "    .colab-df-convert {\n",
              "      background-color: #E8F0FE;\n",
              "      border: none;\n",
              "      border-radius: 50%;\n",
              "      cursor: pointer;\n",
              "      display: none;\n",
              "      fill: #1967D2;\n",
              "      height: 32px;\n",
              "      padding: 0 0 0 0;\n",
              "      width: 32px;\n",
              "    }\n",
              "\n",
              "    .colab-df-convert:hover {\n",
              "      background-color: #E2EBFA;\n",
              "      box-shadow: 0px 1px 2px rgba(60, 64, 67, 0.3), 0px 1px 3px 1px rgba(60, 64, 67, 0.15);\n",
              "      fill: #174EA6;\n",
              "    }\n",
              "\n",
              "    [theme=dark] .colab-df-convert {\n",
              "      background-color: #3B4455;\n",
              "      fill: #D2E3FC;\n",
              "    }\n",
              "\n",
              "    [theme=dark] .colab-df-convert:hover {\n",
              "      background-color: #434B5C;\n",
              "      box-shadow: 0px 1px 3px 1px rgba(0, 0, 0, 0.15);\n",
              "      filter: drop-shadow(0px 1px 2px rgba(0, 0, 0, 0.3));\n",
              "      fill: #FFFFFF;\n",
              "    }\n",
              "  </style>\n",
              "\n",
              "      <script>\n",
              "        const buttonEl =\n",
              "          document.querySelector('#df-9b0b3edc-d1e0-4d5b-90f8-41b2753aaabd button.colab-df-convert');\n",
              "        buttonEl.style.display =\n",
              "          google.colab.kernel.accessAllowed ? 'block' : 'none';\n",
              "\n",
              "        async function convertToInteractive(key) {\n",
              "          const element = document.querySelector('#df-9b0b3edc-d1e0-4d5b-90f8-41b2753aaabd');\n",
              "          const dataTable =\n",
              "            await google.colab.kernel.invokeFunction('convertToInteractive',\n",
              "                                                     [key], {});\n",
              "          if (!dataTable) return;\n",
              "\n",
              "          const docLinkHtml = 'Like what you see? Visit the ' +\n",
              "            '<a target=\"_blank\" href=https://colab.research.google.com/notebooks/data_table.ipynb>data table notebook</a>'\n",
              "            + ' to learn more about interactive tables.';\n",
              "          element.innerHTML = '';\n",
              "          dataTable['output_type'] = 'display_data';\n",
              "          await google.colab.output.renderOutput(dataTable, element);\n",
              "          const docLink = document.createElement('div');\n",
              "          docLink.innerHTML = docLinkHtml;\n",
              "          element.appendChild(docLink);\n",
              "        }\n",
              "      </script>\n",
              "    </div>\n",
              "  </div>\n",
              "  "
            ],
            "text/plain": [
              "                                                   Text  Label  \\\n",
              "0     films adapted from comic books have had plenty...      1   \n",
              "1     every now and then a movie comes along from a ...      1   \n",
              "2     you've got mail works alot better than it dese...      1   \n",
              "3      \" jaws \" is a rare film that grabs your atten...      1   \n",
              "4     moviemaking is a lot like being the general ma...      1   \n",
              "...                                                 ...    ...   \n",
              "1395  house on haunted hill ( 1999 ) starring taye d...      0   \n",
              "1396  fit for a ghoul's night out , fat girl stands ...      0   \n",
              "1397   \" marie couldn't talk , \" paulie , the parrot...      0   \n",
              "1398  well , here's a distasteful , thoroughly amate...      0   \n",
              "1399  okay , i just don't know why , but i seem to b...      0   \n",
              "\n",
              "                                         clean_sentence  \\\n",
              "0     films adapted from comic books have had plenty...   \n",
              "1     every now and then a movie comes along from a ...   \n",
              "2     youve got mail works alot better than it deser...   \n",
              "3     jaws  is a rare film that grabs your attention...   \n",
              "4     moviemaking is a lot like being the general ma...   \n",
              "...                                                 ...   \n",
              "1395  house on haunted hill    starring taye diggs  ...   \n",
              "1396  fit for a ghouls night out  fat girl stands ca...   \n",
              "1397  marie couldnt talk   paulie  the parrot star o...   \n",
              "1398  well  heres a distasteful  thoroughly amateuri...   \n",
              "1399  okay  i just dont know why  but i seem to be g...   \n",
              "\n",
              "                                     tokenized_sentence  \n",
              "0     [66, 3436, 31, 344, 1573, 32, 90, 1069, 4, 616...  \n",
              "1     [149, 141, 3, 97, 2, 28, 200, 256, 31, 2, 1574...  \n",
              "2     [715, 287, 4181, 376, 155, 59, 9, 1168, 5, 7, ...  \n",
              "3     [2677, 6, 2, 1520, 15, 8, 164, 565, 145, 9, 31...  \n",
              "4     [6, 2, 207, 38, 112, 1, 835, 2680, 4, 24, 463,...  \n",
              "...                                                 ...  \n",
              "1395  [401, 19, 2402, 1533, 720, 3686, 1312, 4770, 5...  \n",
              "1396  [1794, 12, 2, 346, 40, 1876, 341, 1238, 186, 2...  \n",
              "1397  [661, 600, 4616, 1, 208, 4, 13, 183, 28, 590, ...  \n",
              "1398  [83, 1710, 2, 1915, 8, 666, 30, 174, 2, 3261, ...  \n",
              "1399  [1107, 18, 50, 119, 118, 168, 16, 18, 239, 5, ...  \n",
              "\n",
              "[1400 rows x 4 columns]"
            ]
          },
          "execution_count": 162,
          "metadata": {},
          "output_type": "execute_result"
        }
      ],
      "source": [
        "df_train"
      ]
    },
    {
      "cell_type": "code",
      "execution_count": null,
      "metadata": {
        "colab": {
          "base_uri": "https://localhost:8080/",
          "height": 424
        },
        "id": "MNbnXzne6yX-",
        "outputId": "66b94cbc-5160-4ffa-fc00-a89c00037fac"
      },
      "outputs": [
        {
          "data": {
            "text/html": [
              "\n",
              "  <div id=\"df-4f838b93-d872-4bf3-b4fc-dea541a5e7f7\">\n",
              "    <div class=\"colab-df-container\">\n",
              "      <div>\n",
              "<style scoped>\n",
              "    .dataframe tbody tr th:only-of-type {\n",
              "        vertical-align: middle;\n",
              "    }\n",
              "\n",
              "    .dataframe tbody tr th {\n",
              "        vertical-align: top;\n",
              "    }\n",
              "\n",
              "    .dataframe thead th {\n",
              "        text-align: right;\n",
              "    }\n",
              "</style>\n",
              "<table border=\"1\" class=\"dataframe\">\n",
              "  <thead>\n",
              "    <tr style=\"text-align: right;\">\n",
              "      <th></th>\n",
              "      <th>Text</th>\n",
              "      <th>Label</th>\n",
              "      <th>clean_sentence</th>\n",
              "      <th>tokenized_sentence</th>\n",
              "    </tr>\n",
              "  </thead>\n",
              "  <tbody>\n",
              "    <tr>\n",
              "      <th>0</th>\n",
              "      <td>let me start off by saying that leading up to ...</td>\n",
              "      <td>1</td>\n",
              "      <td>let me start off by saying that leading up to ...</td>\n",
              "      <td>[481, 98, 454, 101, 21, 869, 8, 1149, 45, 5, 1...</td>\n",
              "    </tr>\n",
              "    <tr>\n",
              "      <th>1</th>\n",
              "      <td>seen september 5 , 1998 at 10 p . m . at the s...</td>\n",
              "      <td>1</td>\n",
              "      <td>seen september    at  p  m  at the sony nickel...</td>\n",
              "      <td>[151, 29, 2789, 1517, 29, 1, 1479, 610, 11, 13...</td>\n",
              "    </tr>\n",
              "    <tr>\n",
              "      <th>2</th>\n",
              "      <td>the characters in \" palmetto \" collectively sw...</td>\n",
              "      <td>1</td>\n",
              "      <td>the characters in  palmetto  collectively swea...</td>\n",
              "      <td>[1, 73, 7, 157, 5, 2109, 2344, 3, 22, 50, 1, 1...</td>\n",
              "    </tr>\n",
              "    <tr>\n",
              "      <th>3</th>\n",
              "      <td>\" you've got mail \" is the very definition of...</td>\n",
              "      <td>1</td>\n",
              "      <td>youve got mail  is the very definition of a  c...</td>\n",
              "      <td>[715, 287, 4181, 6, 1, 77, 4, 2, 1137, 28, 22,...</td>\n",
              "    </tr>\n",
              "    <tr>\n",
              "      <th>4</th>\n",
              "      <td>with the sudden liberal emergence of personal ...</td>\n",
              "      <td>1</td>\n",
              "      <td>with the sudden liberal emergence of personal ...</td>\n",
              "      <td>[11, 1, 2878, 4, 714, 7, 1, 1116, 4570, 47, 11...</td>\n",
              "    </tr>\n",
              "    <tr>\n",
              "      <th>...</th>\n",
              "      <td>...</td>\n",
              "      <td>...</td>\n",
              "      <td>...</td>\n",
              "      <td>...</td>\n",
              "    </tr>\n",
              "    <tr>\n",
              "      <th>595</th>\n",
              "      <td>if anything , \" stigmata \" should be taken as ...</td>\n",
              "      <td>0</td>\n",
              "      <td>if anything   stigmata  should be taken as a w...</td>\n",
              "      <td>[51, 230, 162, 23, 568, 10, 2, 2002, 338, 66, ...</td>\n",
              "    </tr>\n",
              "    <tr>\n",
              "      <th>596</th>\n",
              "      <td>john boorman's \" zardoz \" is a goofy cinematic...</td>\n",
              "      <td>0</td>\n",
              "      <td>john boormans  zardoz  is a goofy cinematic de...</td>\n",
              "      <td>[196, 6, 2, 1994, 1111, 39, 3, 3129, 8, 9, 213...</td>\n",
              "    </tr>\n",
              "    <tr>\n",
              "      <th>597</th>\n",
              "      <td>the kids in the hall are an acquired taste . \\...</td>\n",
              "      <td>0</td>\n",
              "      <td>the kids in the hall are an acquired taste  it...</td>\n",
              "      <td>[1, 390, 7, 1, 1530, 20, 24, 2394, 9, 888, 29,...</td>\n",
              "    </tr>\n",
              "    <tr>\n",
              "      <th>598</th>\n",
              "      <td>there was a time when john carpenter was a gre...</td>\n",
              "      <td>0</td>\n",
              "      <td>there was a time when john carpenter was a gre...</td>\n",
              "      <td>[52, 30, 2, 62, 43, 196, 2387, 30, 2, 123, 320...</td>\n",
              "    </tr>\n",
              "    <tr>\n",
              "      <th>599</th>\n",
              "      <td>two party guys bob their heads to haddaway's d...</td>\n",
              "      <td>0</td>\n",
              "      <td>two party guys bob their heads to haddaways da...</td>\n",
              "      <td>[80, 876, 460, 830, 48, 1402, 5, 1161, 485, 47...</td>\n",
              "    </tr>\n",
              "  </tbody>\n",
              "</table>\n",
              "<p>600 rows × 4 columns</p>\n",
              "</div>\n",
              "      <button class=\"colab-df-convert\" onclick=\"convertToInteractive('df-4f838b93-d872-4bf3-b4fc-dea541a5e7f7')\"\n",
              "              title=\"Convert this dataframe to an interactive table.\"\n",
              "              style=\"display:none;\">\n",
              "        \n",
              "  <svg xmlns=\"http://www.w3.org/2000/svg\" height=\"24px\"viewBox=\"0 0 24 24\"\n",
              "       width=\"24px\">\n",
              "    <path d=\"M0 0h24v24H0V0z\" fill=\"none\"/>\n",
              "    <path d=\"M18.56 5.44l.94 2.06.94-2.06 2.06-.94-2.06-.94-.94-2.06-.94 2.06-2.06.94zm-11 1L8.5 8.5l.94-2.06 2.06-.94-2.06-.94L8.5 2.5l-.94 2.06-2.06.94zm10 10l.94 2.06.94-2.06 2.06-.94-2.06-.94-.94-2.06-.94 2.06-2.06.94z\"/><path d=\"M17.41 7.96l-1.37-1.37c-.4-.4-.92-.59-1.43-.59-.52 0-1.04.2-1.43.59L10.3 9.45l-7.72 7.72c-.78.78-.78 2.05 0 2.83L4 21.41c.39.39.9.59 1.41.59.51 0 1.02-.2 1.41-.59l7.78-7.78 2.81-2.81c.8-.78.8-2.07 0-2.86zM5.41 20L4 18.59l7.72-7.72 1.47 1.35L5.41 20z\"/>\n",
              "  </svg>\n",
              "      </button>\n",
              "      \n",
              "  <style>\n",
              "    .colab-df-container {\n",
              "      display:flex;\n",
              "      flex-wrap:wrap;\n",
              "      gap: 12px;\n",
              "    }\n",
              "\n",
              "    .colab-df-convert {\n",
              "      background-color: #E8F0FE;\n",
              "      border: none;\n",
              "      border-radius: 50%;\n",
              "      cursor: pointer;\n",
              "      display: none;\n",
              "      fill: #1967D2;\n",
              "      height: 32px;\n",
              "      padding: 0 0 0 0;\n",
              "      width: 32px;\n",
              "    }\n",
              "\n",
              "    .colab-df-convert:hover {\n",
              "      background-color: #E2EBFA;\n",
              "      box-shadow: 0px 1px 2px rgba(60, 64, 67, 0.3), 0px 1px 3px 1px rgba(60, 64, 67, 0.15);\n",
              "      fill: #174EA6;\n",
              "    }\n",
              "\n",
              "    [theme=dark] .colab-df-convert {\n",
              "      background-color: #3B4455;\n",
              "      fill: #D2E3FC;\n",
              "    }\n",
              "\n",
              "    [theme=dark] .colab-df-convert:hover {\n",
              "      background-color: #434B5C;\n",
              "      box-shadow: 0px 1px 3px 1px rgba(0, 0, 0, 0.15);\n",
              "      filter: drop-shadow(0px 1px 2px rgba(0, 0, 0, 0.3));\n",
              "      fill: #FFFFFF;\n",
              "    }\n",
              "  </style>\n",
              "\n",
              "      <script>\n",
              "        const buttonEl =\n",
              "          document.querySelector('#df-4f838b93-d872-4bf3-b4fc-dea541a5e7f7 button.colab-df-convert');\n",
              "        buttonEl.style.display =\n",
              "          google.colab.kernel.accessAllowed ? 'block' : 'none';\n",
              "\n",
              "        async function convertToInteractive(key) {\n",
              "          const element = document.querySelector('#df-4f838b93-d872-4bf3-b4fc-dea541a5e7f7');\n",
              "          const dataTable =\n",
              "            await google.colab.kernel.invokeFunction('convertToInteractive',\n",
              "                                                     [key], {});\n",
              "          if (!dataTable) return;\n",
              "\n",
              "          const docLinkHtml = 'Like what you see? Visit the ' +\n",
              "            '<a target=\"_blank\" href=https://colab.research.google.com/notebooks/data_table.ipynb>data table notebook</a>'\n",
              "            + ' to learn more about interactive tables.';\n",
              "          element.innerHTML = '';\n",
              "          dataTable['output_type'] = 'display_data';\n",
              "          await google.colab.output.renderOutput(dataTable, element);\n",
              "          const docLink = document.createElement('div');\n",
              "          docLink.innerHTML = docLinkHtml;\n",
              "          element.appendChild(docLink);\n",
              "        }\n",
              "      </script>\n",
              "    </div>\n",
              "  </div>\n",
              "  "
            ],
            "text/plain": [
              "                                                  Text  Label  \\\n",
              "0    let me start off by saying that leading up to ...      1   \n",
              "1    seen september 5 , 1998 at 10 p . m . at the s...      1   \n",
              "2    the characters in \" palmetto \" collectively sw...      1   \n",
              "3     \" you've got mail \" is the very definition of...      1   \n",
              "4    with the sudden liberal emergence of personal ...      1   \n",
              "..                                                 ...    ...   \n",
              "595  if anything , \" stigmata \" should be taken as ...      0   \n",
              "596  john boorman's \" zardoz \" is a goofy cinematic...      0   \n",
              "597  the kids in the hall are an acquired taste . \\...      0   \n",
              "598  there was a time when john carpenter was a gre...      0   \n",
              "599  two party guys bob their heads to haddaway's d...      0   \n",
              "\n",
              "                                        clean_sentence  \\\n",
              "0    let me start off by saying that leading up to ...   \n",
              "1    seen september    at  p  m  at the sony nickel...   \n",
              "2    the characters in  palmetto  collectively swea...   \n",
              "3    youve got mail  is the very definition of a  c...   \n",
              "4    with the sudden liberal emergence of personal ...   \n",
              "..                                                 ...   \n",
              "595  if anything   stigmata  should be taken as a w...   \n",
              "596  john boormans  zardoz  is a goofy cinematic de...   \n",
              "597  the kids in the hall are an acquired taste  it...   \n",
              "598  there was a time when john carpenter was a gre...   \n",
              "599  two party guys bob their heads to haddaways da...   \n",
              "\n",
              "                                    tokenized_sentence  \n",
              "0    [481, 98, 454, 101, 21, 869, 8, 1149, 45, 5, 1...  \n",
              "1    [151, 29, 2789, 1517, 29, 1, 1479, 610, 11, 13...  \n",
              "2    [1, 73, 7, 157, 5, 2109, 2344, 3, 22, 50, 1, 1...  \n",
              "3    [715, 287, 4181, 6, 1, 77, 4, 2, 1137, 28, 22,...  \n",
              "4    [11, 1, 2878, 4, 714, 7, 1, 1116, 4570, 47, 11...  \n",
              "..                                                 ...  \n",
              "595  [51, 230, 162, 23, 568, 10, 2, 2002, 338, 66, ...  \n",
              "596  [196, 6, 2, 1994, 1111, 39, 3, 3129, 8, 9, 213...  \n",
              "597  [1, 390, 7, 1, 1530, 20, 24, 2394, 9, 888, 29,...  \n",
              "598  [52, 30, 2, 62, 43, 196, 2387, 30, 2, 123, 320...  \n",
              "599  [80, 876, 460, 830, 48, 1402, 5, 1161, 485, 47...  \n",
              "\n",
              "[600 rows x 4 columns]"
            ]
          },
          "execution_count": 163,
          "metadata": {},
          "output_type": "execute_result"
        }
      ],
      "source": [
        "df_test"
      ]
    },
    {
      "cell_type": "markdown",
      "metadata": {
        "id": "2w3zseINLW73"
      },
      "source": [
        "<h2>- Selecting a Review Length Threshold</h2>"
      ]
    },
    {
      "cell_type": "code",
      "execution_count": null,
      "metadata": {
        "colab": {
          "base_uri": "https://localhost:8080/"
        },
        "id": "Okz9N8WkLcQf",
        "outputId": "bdbbde69-6c8b-4aca-8ad6-6d8b984307ca"
      },
      "outputs": [
        {
          "name": "stdout",
          "output_type": "stream",
          "text": [
            "Review Length distribution: [602.5 737.  993.4]\n"
          ]
        }
      ],
      "source": [
        "print(f'Review Length distribution: {np.quantile(df[\"Review Length\"], [0.50, 0.70, 0.90])}')"
      ]
    },
    {
      "cell_type": "markdown",
      "metadata": {
        "id": "tyxDiqWQLlcQ"
      },
      "source": [
        "<h2>- Padding the Documents Vector</h2>"
      ]
    },
    {
      "cell_type": "code",
      "execution_count": null,
      "metadata": {
        "colab": {
          "base_uri": "https://localhost:8080/"
        },
        "id": "Xeyi_mgb67qx",
        "outputId": "d1a2f260-9597-4c09-caee-42b6b9189a6a"
      },
      "outputs": [
        {
          "name": "stdout",
          "output_type": "stream",
          "text": [
            "(1400, 737)\n",
            "(600, 737)\n"
          ]
        }
      ],
      "source": [
        "train_tokenized = df_train['tokenized_sentence'].values.tolist()\n",
        "test_tokenized = df_test['tokenized_sentence'].values.tolist()\n",
        "padded_train = pad_sequences(train_tokenized, maxlen=737, value=0)\n",
        "padded_test = pad_sequences(test_tokenized, maxlen=737, value=0)\n",
        "print(padded_train.shape)\n",
        "print(padded_test.shape)"
      ]
    },
    {
      "cell_type": "markdown",
      "metadata": {
        "id": "Yj5hxjqrLsxm"
      },
      "source": [
        "# 1c. Word Embeddings"
      ]
    },
    {
      "cell_type": "code",
      "execution_count": null,
      "metadata": {
        "id": "Vfgw_y9d8X0M"
      },
      "outputs": [],
      "source": [
        "embed_layer = Embedding(5000, 32, input_length=737)\n",
        "\n",
        "embedded_array_train = []\n",
        "embedded_array_test = []\n",
        "\n",
        "for doc in padded_train:\n",
        "  doc = np.array(doc)\n",
        "  embedded = np.array(embed_layer(doc))\n",
        "  embedded = embedded.transpose()\n",
        "  embedded_array_train.append(embedded)\n",
        "\n",
        "for doc in padded_test:\n",
        "  doc = np.array(doc)\n",
        "  embedded = np.array(embed_layer(doc))\n",
        "  embedded = embedded.transpose()\n",
        "  embedded_array_test.append(embedded)"
      ]
    },
    {
      "cell_type": "code",
      "execution_count": null,
      "metadata": {
        "colab": {
          "base_uri": "https://localhost:8080/"
        },
        "id": "uSikLHVW-yBX",
        "outputId": "2da66084-f1f3-4a40-d7af-ac42e11069b1"
      },
      "outputs": [
        {
          "name": "stdout",
          "output_type": "stream",
          "text": [
            "Total Length of the documents: 1400\n",
            "Dimension of each document: (32, 737)\n"
          ]
        }
      ],
      "source": [
        "# Train\n",
        "print(f'Total Length of the documents: {len(embedded_array_train)}')\n",
        "print(f'Dimension of each document: {embedded_array_train[0].shape}')"
      ]
    },
    {
      "cell_type": "code",
      "execution_count": null,
      "metadata": {
        "colab": {
          "base_uri": "https://localhost:8080/"
        },
        "id": "OicxEyvMMJ0J",
        "outputId": "71584181-254a-408c-a3d0-5010750b3051"
      },
      "outputs": [
        {
          "name": "stdout",
          "output_type": "stream",
          "text": [
            "Total Length of the documents: 600\n",
            "Dimension of each document: (32, 737)\n"
          ]
        }
      ],
      "source": [
        "# Test\n",
        "print(f'Total Length of the documents: {len(embedded_array_test)}')\n",
        "print(f'Dimension of each document: {embedded_array_test[0].shape}')"
      ]
    },
    {
      "cell_type": "markdown",
      "metadata": {
        "id": "uAKiDUkoMQCl"
      },
      "source": [
        "<h2>- Flattening the Embedding Vector</h2>"
      ]
    },
    {
      "cell_type": "code",
      "execution_count": null,
      "metadata": {
        "colab": {
          "base_uri": "https://localhost:8080/"
        },
        "id": "1HeuP4ol_pzb",
        "outputId": "6f94fe26-d3da-436b-8cde-10cc6b6083a1"
      },
      "outputs": [
        {
          "name": "stdout",
          "output_type": "stream",
          "text": [
            "(1400, 23584)\n",
            "(600, 23584)\n"
          ]
        }
      ],
      "source": [
        "flattened_vector_train = [i.flatten() for i in embedded_array_train]\n",
        "flattened_vector_test = [i.flatten() for i in embedded_array_test]\n",
        "print((len(flattened_vector_train), len(flattened_vector_train[0])))\n",
        "print((len(flattened_vector_test), len(flattened_vector_test[0])))"
      ]
    },
    {
      "cell_type": "markdown",
      "metadata": {
        "id": "U4cXgHavM1WY"
      },
      "source": [
        "# 1d. Multi-Layer Perceptron"
      ]
    },
    {
      "cell_type": "code",
      "execution_count": null,
      "metadata": {
        "id": "BkFSyg1JM6oZ"
      },
      "outputs": [],
      "source": [
        "# Splitting the data into train and test sets for model learning\n",
        "x_train = np.array(flattened_vector_train)\n",
        "y_train = df_train['Label'].values\n",
        "x_test = np.array(flattened_vector_test)\n",
        "y_test = df_test['Label'].values"
      ]
    },
    {
      "cell_type": "code",
      "execution_count": null,
      "metadata": {
        "colab": {
          "base_uri": "https://localhost:8080/"
        },
        "id": "6ijnuwhK_iVz",
        "outputId": "b6015de6-cd9e-4636-879a-982776a96da0"
      },
      "outputs": [
        {
          "name": "stdout",
          "output_type": "stream",
          "text": [
            "Epoch 1/2\n",
            "140/140 [==============================] - 3s 13ms/step - loss: 0.7046 - accuracy: 0.4836\n",
            "Epoch 2/2\n",
            "140/140 [==============================] - 1s 10ms/step - loss: 0.6839 - accuracy: 0.5479\n",
            "Train Loss: 0.6306094527244568 and Train Accuracy: 66.07142686843872%\n",
            "Test Loss: 0.6864634156227112 and Test Accuracy: 51.16666555404663%\n"
          ]
        }
      ],
      "source": [
        "# Defining a MLP pipeline\n",
        "model = Sequential()\n",
        "# Add first hidden dense layer with 50 'relu' neurons and 20% dropout\n",
        "model.add(Dense(50, activation='relu'))\n",
        "model.add(Dropout(0.2))\n",
        "# Add first hidden dense layer with 50 'relu' neurons and 50% dropout\n",
        "model.add(Dense(50, activation='relu'))\n",
        "model.add(Dropout(0.5))\n",
        "# Add first hidden dense layer with 50 'relu' neurons and 50% dropout\n",
        "model.add(Dense(50, activation='relu'))\n",
        "model.add(Dropout(0.5))\n",
        "# Add output layer with a sigmoid activation\n",
        "model.add(Dense(1, activation='sigmoid'))\n",
        "model.compile(optimizer='adam', loss='binary_crossentropy', metrics=['accuracy'])\n",
        "\n",
        "model.fit(x_train, y_train, epochs=2, verbose=1, batch_size=10)\n",
        "\n",
        "train_scores = model.evaluate(x_train, y_train, verbose=0)\n",
        "test_scores = model.evaluate(x_test, y_test, verbose=0)\n",
        "print(f'Train Loss: {train_scores[0]} and Train Accuracy: {train_scores[1]*100}%')\n",
        "print(f'Test Loss: {test_scores[0]} and Test Accuracy: {test_scores[1]*100}%')"
      ]
    },
    {
      "cell_type": "markdown",
      "metadata": {},
      "source": [
        "<h4>- Experimentation with MLP: Increasing Epochs</h4>"
      ]
    },
    {
      "cell_type": "code",
      "execution_count": null,
      "metadata": {
        "colab": {
          "base_uri": "https://localhost:8080/"
        },
        "id": "tJcgi78LPFVr",
        "outputId": "27ddd10d-9259-4ad4-86bf-bd0d1487efae"
      },
      "outputs": [
        {
          "name": "stdout",
          "output_type": "stream",
          "text": [
            "Epoch 1/5\n",
            "140/140 [==============================] - 3s 11ms/step - loss: 0.6991 - accuracy: 0.5343\n",
            "Epoch 2/5\n",
            "140/140 [==============================] - 1s 10ms/step - loss: 0.6784 - accuracy: 0.5650\n",
            "Epoch 3/5\n",
            "140/140 [==============================] - 1s 8ms/step - loss: 0.6235 - accuracy: 0.6386\n",
            "Epoch 4/5\n",
            "140/140 [==============================] - 1s 8ms/step - loss: 0.5052 - accuracy: 0.7321\n",
            "Epoch 5/5\n",
            "140/140 [==============================] - 1s 9ms/step - loss: 0.3464 - accuracy: 0.8457\n",
            "Train Loss: 0.21654123067855835 and Train Accuracy: 87.85714507102966%\n",
            "Test Loss: 1.007699728012085 and Test Accuracy: 55.33333420753479%\n"
          ]
        }
      ],
      "source": [
        "# Defining a MLP pipeline\n",
        "model = Sequential()\n",
        "# Add first hidden dense layer with 20% dropout\n",
        "model.add(Dense(50, activation='relu'))\n",
        "model.add(Dropout(0.2))\n",
        "# Add second hidden dense layer with 50% dropout\n",
        "model.add(Dense(50, activation='relu'))\n",
        "model.add(Dropout(0.5))\n",
        "# Add final hidden dense layer with 50% dropout\n",
        "model.add(Dense(50, activation='relu'))\n",
        "model.add(Dropout(0.5))\n",
        "# Add output layer with a sigmoid activation\n",
        "model.add(Dense(1, activation='sigmoid'))\n",
        "model.compile(optimizer='adam', loss='binary_crossentropy', metrics=['accuracy'])\n",
        "\n",
        "model.fit(x_train, y_train, epochs=5, verbose=1, batch_size=10)\n",
        "\n",
        "train_scores = model.evaluate(x_train, y_train, verbose=0)\n",
        "test_scores = model.evaluate(x_test, y_test, verbose=0)\n",
        "print(f'Train Loss: {train_scores[0]} and Train Accuracy: {train_scores[1]*100}%')\n",
        "print(f'Test Loss: {test_scores[0]} and Test Accuracy: {test_scores[1]*100}%')"
      ]
    },
    {
      "cell_type": "markdown",
      "metadata": {
        "id": "jOk5JZMSNdf6"
      },
      "source": [
        "# 1e. One-Dimensional Convolutional Neural Network"
      ]
    },
    {
      "cell_type": "code",
      "execution_count": null,
      "metadata": {
        "id": "j33Ey5gdQ1DK"
      },
      "outputs": [],
      "source": [
        "# Using the embedded data to split into train and test sets\n",
        "x_train = np.array(embedded_array_train)\n",
        "y_train = df_train['Label'].values\n",
        "x_test = np.array(embedded_array_test)\n",
        "y_test = df_test['Label'].values"
      ]
    },
    {
      "cell_type": "code",
      "execution_count": null,
      "metadata": {
        "colab": {
          "base_uri": "https://localhost:8080/"
        },
        "id": "Efa6HX6cRInh",
        "outputId": "147d9073-c6a4-4870-eef3-489a6500968c"
      },
      "outputs": [
        {
          "data": {
            "text/plain": [
              "(1400, 32, 737)"
            ]
          },
          "execution_count": 196,
          "metadata": {},
          "output_type": "execute_result"
        }
      ],
      "source": [
        "x_train.shape"
      ]
    },
    {
      "cell_type": "code",
      "execution_count": null,
      "metadata": {
        "colab": {
          "base_uri": "https://localhost:8080/"
        },
        "id": "EJLI3ju_NiNx",
        "outputId": "97d6c2e0-4a88-4d72-9258-616f2d622c04"
      },
      "outputs": [
        {
          "name": "stdout",
          "output_type": "stream",
          "text": [
            "Epoch 1/2\n",
            "140/140 [==============================] - 3s 15ms/step - loss: 0.6937 - accuracy: 0.5271\n",
            "Epoch 2/2\n",
            "140/140 [==============================] - 2s 13ms/step - loss: 0.6943 - accuracy: 0.5229\n",
            "Train Loss: 0.6876974701881409 and Train Accuracy: 50.07143020629883%\n",
            "Test Loss: 0.6921298503875732 and Test Accuracy: 50.0%\n"
          ]
        }
      ],
      "source": [
        "# Defining a MLP pipeline\n",
        "model = Sequential()\n",
        "# Add convolutional layer and maxpooling layer\n",
        "model.add(Conv1D(32,3,activation='relu'))\n",
        "model.add(MaxPooling1D(pool_size=2, strides=2))\n",
        "model.add(Flatten())\n",
        "# Add first hidden dense layer with 20% dropout\n",
        "model.add(Dense(50, activation='relu'))\n",
        "model.add(Dropout(0.2))\n",
        "# Add second hidden dense layer with 50% dropout\n",
        "model.add(Dense(50, activation='relu'))\n",
        "model.add(Dropout(0.5))\n",
        "# Add final hidden dense layer with 50% dropout\n",
        "model.add(Dense(50, activation='relu'))\n",
        "model.add(Dropout(0.5))\n",
        "# Add output layer with a sigmoid activation\n",
        "model.add(Dense(1, activation='sigmoid'))\n",
        "model.compile(optimizer='adam', loss='binary_crossentropy', metrics=['accuracy'])\n",
        "\n",
        "model.fit(x_train, y_train, epochs=2, verbose=1, batch_size=10)\n",
        "\n",
        "train_scores = model.evaluate(x_train, y_train, verbose=0)\n",
        "test_scores = model.evaluate(x_test, y_test, verbose=0)\n",
        "print(f'Train Loss: {train_scores[0]} and Train Accuracy: {train_scores[1]*100}%')\n",
        "print(f'Test Loss: {test_scores[0]} and Test Accuracy: {test_scores[1]*100}%')"
      ]
    },
    {
      "cell_type": "markdown",
      "metadata": {},
      "source": [
        "<h4>- Experimentation with CNN: Increase Epochs</h4>"
      ]
    },
    {
      "cell_type": "code",
      "execution_count": null,
      "metadata": {
        "colab": {
          "base_uri": "https://localhost:8080/"
        },
        "id": "-BwXcg46S4v-",
        "outputId": "368f5a6b-219f-4ca7-d881-67eb2d1b30b4"
      },
      "outputs": [
        {
          "name": "stdout",
          "output_type": "stream",
          "text": [
            "Epoch 1/5\n",
            "140/140 [==============================] - 4s 19ms/step - loss: 0.6955 - accuracy: 0.4886\n",
            "Epoch 2/5\n",
            "140/140 [==============================] - 3s 18ms/step - loss: 0.6946 - accuracy: 0.5071\n",
            "Epoch 3/5\n",
            "140/140 [==============================] - 3s 18ms/step - loss: 0.6924 - accuracy: 0.5086\n",
            "Epoch 4/5\n",
            "140/140 [==============================] - 2s 16ms/step - loss: 0.6876 - accuracy: 0.5714\n",
            "Epoch 5/5\n",
            "140/140 [==============================] - 2s 14ms/step - loss: 0.6268 - accuracy: 0.6757\n",
            "Train Loss: 0.3787792921066284 and Train Accuracy: 90.57142734527588%\n",
            "Test Loss: 0.7187069654464722 and Test Accuracy: 54.333335161209106%\n"
          ]
        }
      ],
      "source": [
        "# Defining a MLP pipeline\n",
        "model = Sequential()\n",
        "# Add convolutional layer and maxpooling layer\n",
        "model.add(Conv1D(32,3,activation='relu'))\n",
        "model.add(MaxPooling1D(pool_size=2, strides=2))\n",
        "model.add(Flatten())\n",
        "# Add first hidden dense layer with 20% dropout\n",
        "model.add(Dense(50, activation='relu'))\n",
        "model.add(Dropout(0.2))\n",
        "# Add second hidden dense layer with 50% dropout\n",
        "model.add(Dense(50, activation='relu'))\n",
        "model.add(Dropout(0.5))\n",
        "# Add final hidden dense layer with 50% dropout\n",
        "model.add(Dense(50, activation='relu'))\n",
        "model.add(Dropout(0.5))\n",
        "# Add output layer with a sigmoid activation\n",
        "model.add(Dense(1, activation='sigmoid'))\n",
        "model.compile(optimizer='adam', loss='binary_crossentropy', metrics=['accuracy'])\n",
        "\n",
        "model.fit(x_train, y_train, epochs=5, verbose=1, batch_size=10)\n",
        "\n",
        "train_scores = model.evaluate(x_train, y_train, verbose=0)\n",
        "test_scores = model.evaluate(x_test, y_test, verbose=0)\n",
        "print(f'Train Loss: {train_scores[0]} and Train Accuracy: {train_scores[1]*100}%')\n",
        "print(f'Test Loss: {test_scores[0]} and Test Accuracy: {test_scores[1]*100}%')"
      ]
    },
    {
      "cell_type": "markdown",
      "metadata": {
        "id": "HY2k5M2mP1RH"
      },
      "source": [
        "# 1f. Long Short-Term Recurrent Neural Network"
      ]
    },
    {
      "cell_type": "code",
      "execution_count": null,
      "metadata": {
        "id": "jeCqI9rgU-yi"
      },
      "outputs": [],
      "source": [
        "# Using the embedded dataset for train and test\n",
        "x_train = np.array(embedded_array_train)\n",
        "y_train = df_train['Label'].values\n",
        "x_test = np.array(embedded_array_test)\n",
        "y_test = df_test['Label'].values"
      ]
    },
    {
      "cell_type": "code",
      "execution_count": null,
      "metadata": {
        "colab": {
          "base_uri": "https://localhost:8080/"
        },
        "id": "Jswt6wYXUnxq",
        "outputId": "833d14a3-95b7-439d-d346-e5d12a0e6f55"
      },
      "outputs": [
        {
          "name": "stdout",
          "output_type": "stream",
          "text": [
            "Epoch 1/20\n",
            "140/140 [==============================] - 6s 17ms/step - loss: 0.6938 - accuracy: 0.5100\n",
            "Epoch 2/20\n",
            "140/140 [==============================] - 2s 17ms/step - loss: 0.6784 - accuracy: 0.5964\n",
            "Epoch 3/20\n",
            "140/140 [==============================] - 2s 17ms/step - loss: 0.6136 - accuracy: 0.6643\n",
            "Epoch 4/20\n",
            "140/140 [==============================] - 2s 17ms/step - loss: 0.4709 - accuracy: 0.7864\n",
            "Epoch 5/20\n",
            "140/140 [==============================] - 2s 17ms/step - loss: 0.3498 - accuracy: 0.8486\n",
            "Epoch 6/20\n",
            "140/140 [==============================] - 2s 17ms/step - loss: 0.2181 - accuracy: 0.9164\n",
            "Epoch 7/20\n",
            "140/140 [==============================] - 2s 17ms/step - loss: 0.1439 - accuracy: 0.9464\n",
            "Epoch 8/20\n",
            "140/140 [==============================] - 2s 16ms/step - loss: 0.0931 - accuracy: 0.9636\n",
            "Epoch 9/20\n",
            "140/140 [==============================] - 2s 17ms/step - loss: 0.0534 - accuracy: 0.9829\n",
            "Epoch 10/20\n",
            "140/140 [==============================] - 2s 16ms/step - loss: 0.0285 - accuracy: 0.9921\n",
            "Epoch 11/20\n",
            "140/140 [==============================] - 2s 16ms/step - loss: 0.0578 - accuracy: 0.9757\n",
            "Epoch 12/20\n",
            "140/140 [==============================] - 2s 16ms/step - loss: 0.0394 - accuracy: 0.9864\n",
            "Epoch 13/20\n",
            "140/140 [==============================] - 3s 21ms/step - loss: 0.0177 - accuracy: 0.9950\n",
            "Epoch 14/20\n",
            "140/140 [==============================] - 2s 16ms/step - loss: 0.0028 - accuracy: 1.0000\n",
            "Epoch 15/20\n",
            "140/140 [==============================] - 2s 16ms/step - loss: 0.0019 - accuracy: 1.0000\n",
            "Epoch 16/20\n",
            "140/140 [==============================] - 2s 16ms/step - loss: 8.6103e-04 - accuracy: 1.0000\n",
            "Epoch 17/20\n",
            "140/140 [==============================] - 2s 16ms/step - loss: 6.1297e-04 - accuracy: 1.0000\n",
            "Epoch 18/20\n",
            "140/140 [==============================] - 2s 16ms/step - loss: 7.1558e-04 - accuracy: 1.0000\n",
            "Epoch 19/20\n",
            "140/140 [==============================] - 2s 16ms/step - loss: 3.9486e-04 - accuracy: 1.0000\n",
            "Epoch 20/20\n",
            "140/140 [==============================] - 2s 16ms/step - loss: 2.6266e-04 - accuracy: 1.0000\n",
            "Train Loss: 0.00011850064038299024 and Train Accuracy: 100.0%\n",
            "Test Loss: 4.444584846496582 and Test Accuracy: 50.833332538604736%\n"
          ]
        }
      ],
      "source": [
        "model = Sequential()\n",
        "model.add(LSTM(32))\n",
        "model.add(Dropout(0.2))\n",
        "model.add(Dense(256, activation='relu'))\n",
        "model.add(Dropout(0.2))\n",
        "model.add(Dense(1, activation='sigmoid'))\n",
        "model.compile(optimizer='adam', loss='binary_crossentropy', metrics=['accuracy'])\n",
        "\n",
        "model.fit(x_train, y_train, epochs=20, verbose=1, batch_size=10)\n",
        "train_scores = model.evaluate(x_train, y_train, verbose=0)\n",
        "test_scores = model.evaluate(x_test, y_test, verbose=0)\n",
        "print(f'Train Loss: {train_scores[0]} and Train Accuracy: {train_scores[1]*100}%')\n",
        "print(f'Test Loss: {test_scores[0]} and Test Accuracy: {test_scores[1]*100}%')"
      ]
    },
    {
      "cell_type": "markdown",
      "metadata": {
        "id": "GFcJZrCoXGFL"
      },
      "source": [
        "# Observations"
      ]
    },
    {
      "cell_type": "markdown",
      "metadata": {
        "id": "I3ZLHmY3XJA4"
      },
      "source": [
        "<h3>MLP</h3>\n",
        "\n",
        "- MLP performed average when set to 2 epochs and batch size of 10 with a train accuracy of 66%. However, when I set the number of epochs to 5, the train accuracy jumped to 89% while the test accuracy for both experiments remained the same.\n",
        "\n",
        "<h3>1D-CNN</h3>\n",
        "\n",
        "- CNN showed very weak performance at 2 epochs and batch size of 10, with train and test performance only peaking at 50%, showing the model is not learning. However, when I bumped up the epochs to 5, the model showed massive improvement in train (90%) and good improvement in test accuracy (but 54%). \n",
        "\n",
        "<h3>LSTM</h3>\n",
        "\n",
        "- LSTM shows good performance on train set at any epoch setting from 10-50. However, the test performance was really bad and shows the model is overfitting. The test accuracy seems to be the same no matter what changes I make to both epochs or batch size. "
      ]
    },
    {
      "cell_type": "markdown",
      "metadata": {},
      "source": [
        "# References"
      ]
    },
    {
      "cell_type": "markdown",
      "metadata": {},
      "source": [
        "<li>Accesing Files in a directory: <a>https://stackoverflow.com/questions/3207219/how-do-i-list-all-files-of-a-directory</a></li>\n",
        "<li>Preprocessing Text: <a>https://stackoverflow.com/questions/265960/best-way-to-strip-punctuation-from-a-string</a></li>\n",
        "<li>Preprocessing Text: <a>https://datagy.io/python-remove-punctuation-from-string/</a></li>\n",
        "<li>Padding the tokenized text: <a>https://www.tensorflow.org/api_docs/python/tf/keras/preprocessing/sequence/pad_sequences</a></li>\n",
        "<li>Video about Embedding Matrix Dimensions: <a>https://www.youtube.com/watch?v=VkjSaOZSZVs</a></li>\n",
        "<li>video about building MLP model: <a>https://www.youtube.com/watch?v=iajq0xQZ2cQ</a></li>\n",
        "<li>Using Tensorflow and Keras for Deep Learning: <a>https://machinelearningmastery.com/tensorflow-tutorial-deep-learning-with-tf-keras/</a></li>\n",
        "<li>Conv1D Keras: <a>https://keras.io/api/layers/convolution_layers/convolution1d/</a></li>\n",
        "<li>MaxPool1D Keras: <a>https://keras.io/api/layers/pooling_layers/max_pooling1d/</a></li>\n",
        "<li>Understanding Word Embeddings: <a>https://machinelearningmastery.com/what-are-word-embeddings/</a></li>\n",
        "<li>Choosing the type of padding: <a>https://stackoverflow.com/questions/46298793/how-does-choosing-between-pre-and-post-zero-padding-of-sequences-impact-results</a></li>\n",
        "<li>Using Word-Embedding Layers for Deep Learning<a>https://machinelearningmastery.com/use-word-embedding-layers-deep-learning-keras/</a></li>\n",
        "<li>Preprocessing Text: <a>https://machinelearningmastery.com/prepare-text-data-deep-learning-keras/</a></li>\n",
        "<li>LSTM: <a>https://keras.io/api/layers/recurrent_layers/lstm/</a></li>\n",
        "<li>NumPy Array: <a>https://numpy.org/doc/stable/reference/generated/numpy.ndarray.flatten.html</a></li>"
      ]
    }
  ],
  "metadata": {
    "colab": {
      "name": "Ghazali_Sofian_Final_Project.ipynb",
      "provenance": []
    },
    "interpreter": {
      "hash": "40d3a090f54c6569ab1632332b64b2c03c39dcf918b08424e98f38b5ae0af88f"
    },
    "kernelspec": {
      "display_name": "Python 3.8.3 ('base')",
      "language": "python",
      "name": "python3"
    },
    "language_info": {
      "name": "python",
      "version": "3.8.3"
    }
  },
  "nbformat": 4,
  "nbformat_minor": 0
}
